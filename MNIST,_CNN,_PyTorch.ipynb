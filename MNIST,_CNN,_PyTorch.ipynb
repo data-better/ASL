{
  "cells": [
    {
      "cell_type": "markdown",
      "metadata": {
        "id": "view-in-github",
        "colab_type": "text"
      },
      "source": [
        "<a href=\"https://colab.research.google.com/github/data-better/ASL/blob/master/MNIST%2C_CNN%2C_PyTorch.ipynb\" target=\"_parent\"><img src=\"https://colab.research.google.com/assets/colab-badge.svg\" alt=\"Open In Colab\"/></a>"
      ]
    },
    {
      "cell_type": "markdown",
      "source": [
        "* MNIST 숫자 이미지인식과 관련된 CNN 프로그램을 Pytorch로 작성하려고 해. 코드 작성해 줄 수 있나요?\n",
        "* 위 프로그램에서 MNIST 데이터를 불러와서 학습데이터와 시험데이터로 나누는 것을 포함해서 다시 코드를 작생해줘. \n",
        "* 프로그램에서 시험 데이터 중 2개의 이미지를 보여주고, 실제로 어떻게 식별했는지 보여주도록 코드를 개선해줘."
      ],
      "metadata": {
        "id": "w4Tl3EKxwYwe"
      }
    },
    {
      "cell_type": "code",
      "source": [
        "import torch\n",
        "import torchvision\n",
        "import torchvision.transforms as transforms\n",
        "import matplotlib.pyplot as plt\n",
        "\n",
        "# MNIST 데이터를 불러오고 학습 데이터와 테스트 데이터로 나눕니다.\n",
        "train_dataset = torchvision.datasets.MNIST(root='./data', train=True, download=True, transform=transforms.ToTensor())\n",
        "test_dataset = torchvision.datasets.MNIST(root='./data', train=False, download=True, transform=transforms.ToTensor())\n",
        "\n",
        "# 훈련 데이터와 테스트 데이터를 미니 배치로 로드합니다.\n",
        "train_loader = torch.utils.data.DataLoader(train_dataset, batch_size=100, shuffle=True)\n",
        "test_loader = torch.utils.data.DataLoader(test_dataset, batch_size=100, shuffle=False)\n",
        "\n",
        "# CNN 모델을 만듭니다.\n",
        "model = torch.nn.Sequential(\n",
        "    torch.nn.Conv2d(1, 16, kernel_size=3, stride=1, padding=1),\n",
        "    torch.nn.ReLU(),\n",
        "    torch.nn.MaxPool2d(kernel_size=2, stride=2),\n",
        "    torch.nn.Conv2d(16, 32, kernel_size=3, stride=1, padding=1),\n",
        "    torch.nn.ReLU(),\n",
        "    torch.nn.MaxPool2d(kernel_size=2, stride=2),\n",
        "    torch.nn.Flatten(),\n",
        "    torch.nn.Linear(32 * 7 * 7, 100),\n",
        "    torch.nn.ReLU(),\n",
        "    torch.nn.Linear(100, 10)\n",
        ")\n",
        "\n",
        "# 모델을 학습합니다.\n",
        "criterion = torch.nn.CrossEntropyLoss()\n",
        "optimizer = torch.optim.Adam(model.parameters())\n",
        "\n",
        "for epoch in range(10):\n",
        "    for i, (images, labels) in enumerate(train_loader):\n",
        "        # 이미지를 모델에 전달하고 예측을 합니다.\n",
        "        predictions = model(images)\n",
        "\n",
        "        # 손실 함수를 계산합니다.\n",
        "        loss = criterion(predictions, labels)\n",
        "\n",
        "        # 손실 함수에 대해 모델을 업데이트합니다.\n",
        "        optimizer.zero_grad()\n",
        "        loss.backward()\n",
        "        optimizer.step()\n",
        "\n",
        "        # 100번의 에포크마다 진행 상황을 표시합니다.\n",
        "        if i % 100 == 99:\n",
        "            print('Epoch {}: Loss {:.4f}'.format(epoch + 1, loss.item()))\n",
        "\n",
        "# 모델을 테스트합니다.\n",
        "correct = 0\n",
        "total = 0\n",
        "\n",
        "for images, labels in test_loader:\n",
        "    # 이미지를 모델에 전달하고 예측을 합니다.\n",
        "    predictions = model(images)\n",
        "\n",
        "    # 예측이 실제 레이블과 일치하는지 확인합니다.\n",
        "    correct += (predictions.argmax(1) == labels).sum().item()\n",
        "    total += labels.size(0)\n",
        "\n",
        "# 정확도를 계산합니다.\n",
        "accuracy = 100 * correct / total\n",
        "print('Accuracy: {:.2f}%'.format(accuracy))\n",
        "\n",
        "# 테스트 데이터 중 2개의 이미지를 표시하고 실제로 어떻게 식별했는지 보여줍니다.\n",
        "for i in range(2):\n",
        "    image, label = test_dataset[i]\n",
        "    prediction = model(image.unsqueeze(0))\n",
        "    print('Label: {}'.format(label))\n",
        "    print('Prediction: {}'.format(prediction.argmax(1)))\n",
        "    plt.imshow(image.squeeze())\n",
        "    plt.show()\n"
      ],
      "metadata": {
        "colab": {
          "base_uri": "https://localhost:8080/",
          "height": 1000
        },
        "id": "VrvVoLL0zcEo",
        "outputId": "a3740b2c-5d0d-4623-e1bb-2095f295fa12"
      },
      "execution_count": null,
      "outputs": [
        {
          "output_type": "stream",
          "name": "stdout",
          "text": [
            "Epoch 1: Loss 0.3241\n",
            "Epoch 1: Loss 0.2499\n",
            "Epoch 1: Loss 0.2576\n",
            "Epoch 1: Loss 0.1255\n",
            "Epoch 1: Loss 0.1127\n",
            "Epoch 1: Loss 0.0682\n",
            "Epoch 2: Loss 0.0694\n",
            "Epoch 2: Loss 0.0399\n",
            "Epoch 2: Loss 0.0692\n",
            "Epoch 2: Loss 0.1774\n",
            "Epoch 2: Loss 0.0807\n",
            "Epoch 2: Loss 0.0580\n",
            "Epoch 3: Loss 0.0849\n",
            "Epoch 3: Loss 0.0164\n",
            "Epoch 3: Loss 0.0442\n",
            "Epoch 3: Loss 0.0406\n",
            "Epoch 3: Loss 0.0120\n",
            "Epoch 3: Loss 0.0887\n",
            "Epoch 4: Loss 0.0641\n",
            "Epoch 4: Loss 0.0071\n",
            "Epoch 4: Loss 0.0590\n",
            "Epoch 4: Loss 0.0124\n",
            "Epoch 4: Loss 0.0297\n",
            "Epoch 4: Loss 0.0593\n",
            "Epoch 5: Loss 0.0123\n",
            "Epoch 5: Loss 0.0074\n",
            "Epoch 5: Loss 0.0417\n",
            "Epoch 5: Loss 0.0474\n",
            "Epoch 5: Loss 0.0247\n",
            "Epoch 5: Loss 0.0715\n",
            "Epoch 6: Loss 0.0174\n",
            "Epoch 6: Loss 0.0187\n",
            "Epoch 6: Loss 0.0025\n",
            "Epoch 6: Loss 0.0241\n",
            "Epoch 6: Loss 0.0650\n",
            "Epoch 6: Loss 0.0225\n",
            "Epoch 7: Loss 0.0192\n",
            "Epoch 7: Loss 0.0150\n",
            "Epoch 7: Loss 0.0153\n",
            "Epoch 7: Loss 0.0573\n",
            "Epoch 7: Loss 0.0157\n",
            "Epoch 7: Loss 0.0022\n",
            "Epoch 8: Loss 0.0451\n",
            "Epoch 8: Loss 0.0145\n",
            "Epoch 8: Loss 0.0018\n",
            "Epoch 8: Loss 0.0087\n",
            "Epoch 8: Loss 0.0248\n",
            "Epoch 8: Loss 0.0303\n",
            "Epoch 9: Loss 0.0306\n",
            "Epoch 9: Loss 0.0147\n",
            "Epoch 9: Loss 0.0353\n",
            "Epoch 9: Loss 0.0391\n",
            "Epoch 9: Loss 0.0363\n",
            "Epoch 9: Loss 0.0130\n",
            "Epoch 10: Loss 0.0024\n",
            "Epoch 10: Loss 0.0034\n",
            "Epoch 10: Loss 0.0128\n",
            "Epoch 10: Loss 0.0202\n",
            "Epoch 10: Loss 0.0414\n",
            "Epoch 10: Loss 0.0175\n",
            "Accuracy: 98.79%\n",
            "Label: 7\n",
            "Prediction: tensor([7])\n"
          ]
        },
        {
          "output_type": "error",
          "ename": "NameError",
          "evalue": "ignored",
          "traceback": [
            "\u001b[0;31m---------------------------------------------------------------------------\u001b[0m",
            "\u001b[0;31mNameError\u001b[0m                                 Traceback (most recent call last)",
            "\u001b[0;32m<ipython-input-4-1a6e19c68e97>\u001b[0m in \u001b[0;36m<cell line: 65>\u001b[0;34m()\u001b[0m\n\u001b[1;32m     68\u001b[0m     \u001b[0mprint\u001b[0m\u001b[0;34m(\u001b[0m\u001b[0;34m'Label: {}'\u001b[0m\u001b[0;34m.\u001b[0m\u001b[0mformat\u001b[0m\u001b[0;34m(\u001b[0m\u001b[0mlabel\u001b[0m\u001b[0;34m)\u001b[0m\u001b[0;34m)\u001b[0m\u001b[0;34m\u001b[0m\u001b[0;34m\u001b[0m\u001b[0m\n\u001b[1;32m     69\u001b[0m     \u001b[0mprint\u001b[0m\u001b[0;34m(\u001b[0m\u001b[0;34m'Prediction: {}'\u001b[0m\u001b[0;34m.\u001b[0m\u001b[0mformat\u001b[0m\u001b[0;34m(\u001b[0m\u001b[0mprediction\u001b[0m\u001b[0;34m.\u001b[0m\u001b[0margmax\u001b[0m\u001b[0;34m(\u001b[0m\u001b[0;36m1\u001b[0m\u001b[0;34m)\u001b[0m\u001b[0;34m)\u001b[0m\u001b[0;34m)\u001b[0m\u001b[0;34m\u001b[0m\u001b[0;34m\u001b[0m\u001b[0m\n\u001b[0;32m---> 70\u001b[0;31m     \u001b[0mplt\u001b[0m\u001b[0;34m.\u001b[0m\u001b[0mimshow\u001b[0m\u001b[0;34m(\u001b[0m\u001b[0mimage\u001b[0m\u001b[0;34m.\u001b[0m\u001b[0msqueeze\u001b[0m\u001b[0;34m(\u001b[0m\u001b[0;34m)\u001b[0m\u001b[0;34m)\u001b[0m\u001b[0;34m\u001b[0m\u001b[0;34m\u001b[0m\u001b[0m\n\u001b[0m\u001b[1;32m     71\u001b[0m     \u001b[0mplt\u001b[0m\u001b[0;34m.\u001b[0m\u001b[0mshow\u001b[0m\u001b[0;34m(\u001b[0m\u001b[0;34m)\u001b[0m\u001b[0;34m\u001b[0m\u001b[0;34m\u001b[0m\u001b[0m\n",
            "\u001b[0;31mNameError\u001b[0m: name 'plt' is not defined"
          ]
        }
      ]
    },
    {
      "cell_type": "markdown",
      "source": [
        "<div class=\"md-recitation\">\n",
        "  Sources\n",
        "  <ol>\n",
        "  <li><a href=\"https://github.com/pytorch/tutorials\">https://github.com/pytorch/tutorials</a> subject to BSD - 3 - Clause</li>\n",
        "  <li><a href=\"https://github.com/1183830041/python\">https://github.com/1183830041/python</a></li>\n",
        "  <li><a href=\"https://github.com/shiftan/simple_sagemaker\">https://github.com/shiftan/simple_sagemaker</a> subject to Apache - 2.0</li>\n",
        "  <li><a href=\"https://github.com/Lagostra/exprimo-placement-experiments\">https://github.com/Lagostra/exprimo-placement-experiments</a></li>\n",
        "  </ol>\n",
        "</div>"
      ],
      "metadata": {
        "id": "moZZiXyHwYwh"
      }
    },
    {
      "cell_type": "code",
      "source": [
        "import matplotlib.pyplot as plt"
      ],
      "metadata": {
        "id": "IRRunpMS2-fZ"
      },
      "execution_count": null,
      "outputs": []
    },
    {
      "cell_type": "code",
      "source": [
        "# 테스트 데이터 중 2개의 이미지를 표시하고 실제로 어떻게 식별했는지 보여줍니다.\n",
        "for i in range(2):\n",
        "    image, label = test_dataset[i]\n",
        "    prediction = model(image.unsqueeze(0))\n",
        "    print('Label: {}'.format(label))\n",
        "    print('Prediction: {}'.format(prediction.argmax(1)))\n",
        "    plt.imshow(image.squeeze())\n",
        "    plt.show()"
      ],
      "metadata": {
        "colab": {
          "base_uri": "https://localhost:8080/",
          "height": 916
        },
        "id": "vfR9CdEJ3AeE",
        "outputId": "bfdf65fc-7d68-4f5a-de91-660b1d9439ce"
      },
      "execution_count": null,
      "outputs": [
        {
          "output_type": "stream",
          "name": "stdout",
          "text": [
            "Label: 7\n",
            "Prediction: tensor([7])\n"
          ]
        },
        {
          "output_type": "display_data",
          "data": {
            "text/plain": [
              "<Figure size 640x480 with 1 Axes>"
            ],
            "image/png": "[encoded data removed]"
          },
          "metadata": {}
        },
        {
          "output_type": "stream",
          "name": "stdout",
          "text": [
            "Label: 2\n",
            "Prediction: tensor([2])\n"
          ]
        },
        {
          "output_type": "display_data",
          "data": {
            "text/plain": [
              "<Figure size 640x480 with 1 Axes>"
            ],
            "image/png": "[encoded data removed]"
          },
          "metadata": {}
        }
      ]
    }
  ],
  "metadata": {
    "colab": {
      "provenance": [],
      "gpuType": "T4",
      "include_colab_link": true
    },
    "kernelspec": {
      "display_name": "Python 3",
      "name": "python3"
    },
    "accelerator": "GPU",
    "gpuClass": "standard"
  },
  "nbformat": 4,
  "nbformat_minor": 0
}
{
  "nbformat": 4,
  "nbformat_minor": 0,
  "metadata": {
    "colab": {
      "name": "10강-intro_to_rnn_keras.ipynb",
      "provenance": [],
      "collapsed_sections": [],
      "include_colab_link": true
    },
    "kernelspec": {
      "name": "python3",
      "display_name": "Python 3"
    }
  },
  "cells": [
    {
      "cell_type": "markdown",
      "metadata": {
        "id": "view-in-github",
        "colab_type": "text"
      },
      "source": [
        "<a href=\"https://colab.research.google.com/github/data-better/ASL/blob/master/10%EA%B0%95_intro_to_rnn_keras.ipynb\" target=\"_parent\"><img src=\"https://colab.research.google.com/assets/colab-badge.svg\" alt=\"Open In Colab\"/></a>"
      ]
    },
    {
      "cell_type": "code",
      "metadata": {
        "id": "aPBrbInGhROX"
      },
      "source": [
        "import numpy as np\n",
        "from keras.models import Sequential\n",
        "from keras.layers import SimpleRNN, Dense, Embedding\n",
        "from keras.preprocessing.text import one_hot\n",
        "from keras.preprocessing.sequence import pad_sequences"
      ],
      "execution_count": null,
      "outputs": []
    },
    {
      "cell_type": "markdown",
      "metadata": {
        "id": "qTpIaLT75cvT"
      },
      "source": [
        "## Parameter 개수 확인\n",
        "### Simple RNN 1 layer"
      ]
    },
    {
      "cell_type": "code",
      "metadata": {
        "id": "dlVGpJUPhWL3",
        "outputId": "74871881-4040-49b5-fc5b-ae80a84adfe5",
        "colab": {
          "base_uri": "https://localhost:8080/",
          "height": 343
        }
      },
      "source": [
        "model = Sequential()\n",
        "model.add(SimpleRNN(32, input_shape=(3,10000), return_sequences=False))\n",
        "model.add(Dense(1))\n",
        "model.summary()"
      ],
      "execution_count": null,
      "outputs": [
        {
          "output_type": "stream",
          "text": [
            "WARNING: Logging before flag parsing goes to stderr.\n",
            "W0803 03:38:57.279271 140453068625792 deprecation_wrapper.py:119] From /usr/local/lib/python3.6/dist-packages/keras/backend/tensorflow_backend.py:74: The name tf.get_default_graph is deprecated. Please use tf.compat.v1.get_default_graph instead.\n",
            "\n",
            "W0803 03:38:57.334946 140453068625792 deprecation_wrapper.py:119] From /usr/local/lib/python3.6/dist-packages/keras/backend/tensorflow_backend.py:517: The name tf.placeholder is deprecated. Please use tf.compat.v1.placeholder instead.\n",
            "\n",
            "W0803 03:38:57.343529 140453068625792 deprecation_wrapper.py:119] From /usr/local/lib/python3.6/dist-packages/keras/backend/tensorflow_backend.py:4138: The name tf.random_uniform is deprecated. Please use tf.random.uniform instead.\n",
            "\n"
          ],
          "name": "stderr"
        },
        {
          "output_type": "stream",
          "text": [
            "_________________________________________________________________\n",
            "Layer (type)                 Output Shape              Param #   \n",
            "=================================================================\n",
            "simple_rnn_1 (SimpleRNN)     (None, 32)                321056    \n",
            "_________________________________________________________________\n",
            "dense_1 (Dense)              (None, 1)                 33        \n",
            "=================================================================\n",
            "Total params: 321,089\n",
            "Trainable params: 321,089\n",
            "Non-trainable params: 0\n",
            "_________________________________________________________________\n"
          ],
          "name": "stdout"
        }
      ]
    },
    {
      "cell_type": "markdown",
      "metadata": {
        "id": "ZIzMUrnYkBhw"
      },
      "source": [
        "$$ h_t = \\phi (x_t^T W_x + h_{t-1}^T W_h + b)$$\n",
        "$W_x$: 10000개의 input 값과 32개 output($h_t$)과의 연결 = $32 \\times 10000 = 320000$\n",
        "$W_h$: 32개 $h_{t-1}$과 32개 $h_{t}$와의 연결 = $32 \\times 32 = 1024$\n",
        "$b$: 32개 bias"
      ]
    },
    {
      "cell_type": "markdown",
      "metadata": {
        "id": "bwVN2Ded5y6S"
      },
      "source": [
        "### Simple RNN with Embedding"
      ]
    },
    {
      "cell_type": "code",
      "metadata": {
        "id": "zYaXARwP578l",
        "outputId": "ebf0541e-d284-40b9-cf48-d136e425a53d",
        "colab": {
          "base_uri": "https://localhost:8080/",
          "height": 224
        }
      },
      "source": [
        "docs = ['Well done!',\n",
        "\t\t'Good work',\n",
        "\t\t'Great effort',\n",
        "\t\t'nice work',\n",
        "\t\t'Excellent!',\n",
        "\t\t'Weak',\n",
        "\t\t'Poor effort!',\n",
        "\t\t'not good',\n",
        "\t\t'poor work',\n",
        "\t\t'Could have done better.']\n",
        "labels = np.array([1,1,1,1,1,0,0,0,0,0])\n",
        "        \n",
        "vocab_size = 50\n",
        "encoded_docs = [one_hot(d, vocab_size) for d in docs]\n",
        "print(encoded_docs)\n",
        "\n",
        "max_length = 4\n",
        "padded_docs = pad_sequences(encoded_docs, maxlen = max_length, padding = 'post')\n",
        "print(padded_docs)"
      ],
      "execution_count": null,
      "outputs": [
        {
          "output_type": "stream",
          "text": [
            "[[32, 9], [12, 43], [6, 2], [42, 43], [15], [40], [28, 2], [19, 12], [28, 43], [38, 20, 9, 8]]\n",
            "[[32  9  0  0]\n",
            " [12 43  0  0]\n",
            " [ 6  2  0  0]\n",
            " [42 43  0  0]\n",
            " [15  0  0  0]\n",
            " [40  0  0  0]\n",
            " [28  2  0  0]\n",
            " [19 12  0  0]\n",
            " [28 43  0  0]\n",
            " [38 20  9  8]]\n"
          ],
          "name": "stdout"
        }
      ]
    },
    {
      "cell_type": "code",
      "metadata": {
        "id": "5YCMPoJ_7M_i",
        "outputId": "a619b932-12cd-4e06-c064-b2f9677831bf",
        "colab": {
          "base_uri": "https://localhost:8080/",
          "height": 238
        }
      },
      "source": [
        "model = Sequential()\n",
        "model.add(Embedding(vocab_size, 8, input_length = max_length))\n",
        "model.add(SimpleRNN(32, return_sequences = False))\n",
        "model.add(Dense(1))\n",
        "model.summary()"
      ],
      "execution_count": null,
      "outputs": [
        {
          "output_type": "stream",
          "text": [
            "_________________________________________________________________\n",
            "Layer (type)                 Output Shape              Param #   \n",
            "=================================================================\n",
            "embedding_5 (Embedding)      (None, 4, 8)              400       \n",
            "_________________________________________________________________\n",
            "simple_rnn_6 (SimpleRNN)     (None, 32)                1312      \n",
            "_________________________________________________________________\n",
            "dense_6 (Dense)              (None, 1)                 33        \n",
            "=================================================================\n",
            "Total params: 1,745\n",
            "Trainable params: 1,745\n",
            "Non-trainable params: 0\n",
            "_________________________________________________________________\n"
          ],
          "name": "stdout"
        }
      ]
    },
    {
      "cell_type": "markdown",
      "metadata": {
        "id": "7zEBHxWI8x3u"
      },
      "source": [
        "$$emb_{out} = W x$$\n",
        "$$W: 50\\times 8 = 400$$\n",
        "$$h_t = \\phi(x_t^T W_x + h_{t-1}^T W_h + b)$$\n",
        "$W_x: 8 \\times 32 = 256$: 8 dim의 input을 32개의 hidden으로 mapping\n",
        "\n",
        "$W_h = 32 \\times 32 = 1024$: 32차원의 hidden을 32차원으로..\n",
        "\n",
        "$b: 32 \\times 1$: 32개의 bias"
      ]
    },
    {
      "cell_type": "markdown",
      "metadata": {
        "id": "JbrGMx5T5pqB"
      },
      "source": [
        "### Simple RNN 2 layers"
      ]
    },
    {
      "cell_type": "code",
      "metadata": {
        "id": "BAomXvfMkCKu",
        "outputId": "31444815-31f9-4ad2-82e2-97fd3220f694",
        "colab": {
          "base_uri": "https://localhost:8080/",
          "height": 238
        }
      },
      "source": [
        "from keras.models import Sequential\n",
        "from keras.layers import SimpleRNN, Dense\n",
        "\n",
        "model = Sequential()\n",
        "model.add(SimpleRNN(32, input_shape=(3,10000), return_sequences=True))\n",
        "model.add(SimpleRNN(32, input_shape=(3,10000), return_sequences=False))\n",
        "model.add(Dense(1))\n",
        "model.summary()"
      ],
      "execution_count": null,
      "outputs": [
        {
          "output_type": "stream",
          "text": [
            "_________________________________________________________________\n",
            "Layer (type)                 Output Shape              Param #   \n",
            "=================================================================\n",
            "simple_rnn_2 (SimpleRNN)     (None, 3, 32)             321056    \n",
            "_________________________________________________________________\n",
            "simple_rnn_3 (SimpleRNN)     (None, 32)                2080      \n",
            "_________________________________________________________________\n",
            "dense_2 (Dense)              (None, 1)                 33        \n",
            "=================================================================\n",
            "Total params: 323,169\n",
            "Trainable params: 323,169\n",
            "Non-trainable params: 0\n",
            "_________________________________________________________________\n"
          ],
          "name": "stdout"
        }
      ]
    },
    {
      "cell_type": "markdown",
      "metadata": {
        "id": "pCOxdrU-kIQk"
      },
      "source": [
        "$$ h_t = \\phi (x_t^T W_x + h_{t-1}^T W_h + b)$$\n",
        "RNN layer 1\n",
        "\n",
        "$W_x$: 10000개의 input 값과 32개 output($h_t$)과의 연결 = $32 \\times 10000 = 320000$\n",
        "$W_h$: 32개 $h_{t-1}$과 32개 $h_{t}$와의 연결 = $32 \\times 32 = 1024$\n",
        "$b$: 32개 bias\n",
        "\n",
        "=> 320000 + 1024 + 32 = 321056\n",
        "\n",
        "RNN layer 2\n",
        "\n",
        "$W_x$: 32개의 input 값과 32개 output($h_t$)과의 연결 = $32 \\times 32 = 1024$\n",
        "$W_h$: 32개 $h_{t-1}$과 32개 $h_{t}$와의 연결 = $32 \\times 32 = 1024$\n",
        "$b$: 32개 bias\n",
        "\n",
        "=> 1024 + 1024 + 32 = 2080"
      ]
    },
    {
      "cell_type": "code",
      "metadata": {
        "id": "vCKXLb2KkKXF",
        "outputId": "d3a8407f-cff2-4a0b-916a-8eb21bcc5d8c",
        "colab": {
          "base_uri": "https://localhost:8080/",
          "height": 204
        }
      },
      "source": [
        "from keras.models import Sequential\n",
        "from keras.layers import LSTM, Dense\n",
        "\n",
        "model = Sequential()\n",
        "model.add(LSTM(32, input_shape=(3,10000), return_sequences=False))\n",
        "model.add(Dense(1))\n",
        "model.summary()"
      ],
      "execution_count": null,
      "outputs": [
        {
          "output_type": "stream",
          "text": [
            "_________________________________________________________________\n",
            "Layer (type)                 Output Shape              Param #   \n",
            "=================================================================\n",
            "lstm_1 (LSTM)                (None, 32)                1284224   \n",
            "_________________________________________________________________\n",
            "dense_3 (Dense)              (None, 1)                 33        \n",
            "=================================================================\n",
            "Total params: 1,284,257\n",
            "Trainable params: 1,284,257\n",
            "Non-trainable params: 0\n",
            "_________________________________________________________________\n"
          ],
          "name": "stdout"
        }
      ]
    },
    {
      "cell_type": "code",
      "metadata": {
        "id": "WdLm4qegkXUx"
      },
      "source": [
        ""
      ],
      "execution_count": null,
      "outputs": []
    }
  ]
}
{
  "nbformat": 4,
  "nbformat_minor": 0,
  "metadata": {
    "colab": {
      "name": "4-5_activation_function.ipynb",
      "version": "0.3.2",
      "provenance": [],
      "include_colab_link": true
    },
    "language_info": {
      "codemirror_mode": {
        "name": "ipython",
        "version": 3
      },
      "file_extension": ".py",
      "mimetype": "text/x-python",
      "name": "python",
      "nbconvert_exporter": "python",
      "pygments_lexer": "ipython3",
      "version": "3.7.3"
    },
    "kernelspec": {
      "display_name": "Python 3",
      "language": "python",
      "name": "python3"
    }
  },
  "cells": [
    {
      "cell_type": "markdown",
      "metadata": {
        "id": "view-in-github",
        "colab_type": "text"
      },
      "source": [
        "<a href=\"https://colab.research.google.com/github/data-better/ASL/blob/master/Activation_function.ipynb\" target=\"_parent\"><img src=\"https://colab.research.google.com/assets/colab-badge.svg\" alt=\"Open In Colab\"/></a>"
      ]
    },
    {
      "cell_type": "markdown",
      "metadata": {
        "id": "8sax9qrJcKcy",
        "colab_type": "text"
      },
      "source": [
        "## 4.5 활성화 함수"
      ]
    },
    {
      "cell_type": "markdown",
      "metadata": {
        "id": "OaPRGBNIcKcz",
        "colab_type": "text"
      },
      "source": [
        "### 4.5.1 계단 함수"
      ]
    },
    {
      "cell_type": "code",
      "metadata": {
        "id": "fLuH2dtccKc0",
        "colab_type": "code",
        "outputId": "69632767-954e-4c85-cb91-f80d419b62da",
        "colab": {
          "base_uri": "https://localhost:8080/",
          "height": 269
        }
      },
      "source": [
        "%matplotlib inline\n",
        "\n",
        "import numpy as np\n",
        "import matplotlib.pyplot as plt\n",
        "\n",
        "def step_function(x):\n",
        "    return np.where(x<=0, 0, 1)\n",
        "\n",
        "x = np.linspace(-5, 5)\n",
        "y = step_function(x)\n",
        "\n",
        "plt.plot(x, y)\n",
        "plt.show()"
      ],
      "execution_count": 0,
      "outputs": [
        {
          "output_type": "display_data",
          "data": {
            "image/png": "[encoded data removed]",
            "text/plain": [
              "<Figure size 432x288 with 1 Axes>"
            ]
          },
          "metadata": {
            "tags": []
          }
        }
      ]
    },
    {
      "cell_type": "markdown",
      "metadata": {
        "id": "WtWfPPTjcKc4",
        "colab_type": "text"
      },
      "source": [
        "### 4.5.2 시그모이드 함수"
      ]
    },
    {
      "cell_type": "code",
      "metadata": {
        "id": "OweYE7-xcKc5",
        "colab_type": "code",
        "outputId": "0ce70b7f-adc4-4167-beb4-5f4b131745ef",
        "colab": {
          "base_uri": "https://localhost:8080/",
          "height": 269
        }
      },
      "source": [
        "%matplotlib inline\n",
        "\n",
        "import numpy as np\n",
        "import matplotlib.pylab as plt\n",
        "\n",
        "def sigmoid_function(x):\n",
        "    return 1/(1+np.exp(-x))\n",
        "\n",
        "x = np.linspace(-5, 5)\n",
        "y = sigmoid_function(x)\n",
        "\n",
        "plt.plot(x, y)\n",
        "plt.show()"
      ],
      "execution_count": 0,
      "outputs": [
        {
          "output_type": "display_data",
          "data": {
            "image/png": "[encoded data removed]",
            "text/plain": [
              "<Figure size 432x288 with 1 Axes>"
            ]
          },
          "metadata": {
            "tags": []
          }
        }
      ]
    },
    {
      "cell_type": "markdown",
      "metadata": {
        "id": "aifvIt-xcKc7",
        "colab_type": "text"
      },
      "source": [
        "### 4.5.3 tanh"
      ]
    },
    {
      "cell_type": "code",
      "metadata": {
        "id": "vuAHKcWJcKc8",
        "colab_type": "code",
        "outputId": "422f35e9-7286-4a60-d368-4306ba60c0a1",
        "colab": {
          "base_uri": "https://localhost:8080/",
          "height": 269
        }
      },
      "source": [
        "%matplotlib inline\n",
        "\n",
        "import numpy as np\n",
        "import matplotlib.pylab as plt\n",
        "\n",
        "def tanh_function(x):\n",
        "    return np.tanh(x)\n",
        "\n",
        "x = np.linspace(-5, 5)\n",
        "y = tanh_function(x)\n",
        "\n",
        "plt.plot(x, y)\n",
        "plt.show()"
      ],
      "execution_count": 0,
      "outputs": [
        {
          "output_type": "display_data",
          "data": {
            "image/png": "[encoded data removed]",
            "text/plain": [
              "<Figure size 432x288 with 1 Axes>"
            ]
          },
          "metadata": {
            "tags": []
          }
        }
      ]
    },
    {
      "cell_type": "markdown",
      "metadata": {
        "id": "1W8NqwztcKc_",
        "colab_type": "text"
      },
      "source": [
        "### 4.5.4 ReLU"
      ]
    },
    {
      "cell_type": "code",
      "metadata": {
        "id": "wvy4LfVtcKdA",
        "colab_type": "code",
        "outputId": "de84af99-558e-478a-8270-734d50f20095",
        "colab": {
          "base_uri": "https://localhost:8080/",
          "height": 269
        }
      },
      "source": [
        "%matplotlib inline\n",
        "\n",
        "import numpy as np\n",
        "import matplotlib.pylab as plt\n",
        "\n",
        "def relu_function(x):\n",
        "    return np.where(x <= 0, 0, x)\n",
        "\n",
        "x = np.linspace(-5, 5)\n",
        "y = relu_function(x)\n",
        "\n",
        "plt.plot(x, y)\n",
        "plt.show()"
      ],
      "execution_count": 0,
      "outputs": [
        {
          "output_type": "display_data",
          "data": {
            "image/png": "[encoded data removed]",
            "text/plain": [
              "<Figure size 432x288 with 1 Axes>"
            ]
          },
          "metadata": {
            "tags": []
          }
        }
      ]
    },
    {
      "cell_type": "markdown",
      "metadata": {
        "id": "kHyvee28cKdC",
        "colab_type": "text"
      },
      "source": [
        "### 4.5.5 Leaky ReLU"
      ]
    },
    {
      "cell_type": "code",
      "metadata": {
        "id": "wNjheiiHcKdD",
        "colab_type": "code",
        "outputId": "4cd68364-eef0-4454-a555-6d6c58df221a",
        "colab": {
          "base_uri": "https://localhost:8080/",
          "height": 269
        }
      },
      "source": [
        "%matplotlib inline\n",
        "\n",
        "import numpy as np\n",
        "import matplotlib.pylab as plt\n",
        "\n",
        "def leaky_relu_function(x):\n",
        "    return np.where(x <= 0, 0.01*x, x)\n",
        "\n",
        "x = np.linspace(-5, 5)\n",
        "y = leaky_relu_function(x)\n",
        "\n",
        "plt.plot(x, y)\n",
        "plt.show()"
      ],
      "execution_count": 0,
      "outputs": [
        {
          "output_type": "display_data",
          "data": {
            "image/png": "[encoded data removed]",
            "text/plain": [
              "<Figure size 432x288 with 1 Axes>"
            ]
          },
          "metadata": {
            "tags": []
          }
        }
      ]
    },
    {
      "cell_type": "markdown",
      "metadata": {
        "id": "hsQ0ait9cKdF",
        "colab_type": "text"
      },
      "source": [
        "### 4.5.6 항등 함수"
      ]
    },
    {
      "cell_type": "code",
      "metadata": {
        "id": "8uf6VuGEcKdG",
        "colab_type": "code",
        "outputId": "693f8243-acbe-4969-a117-e1da6f59cab5",
        "colab": {
          "base_uri": "https://localhost:8080/",
          "height": 269
        }
      },
      "source": [
        "%matplotlib inline\n",
        "\n",
        "import numpy as np\n",
        "import matplotlib.pylab as plt\n",
        "\n",
        "x = np.linspace(-5, 5)\n",
        "y = x\n",
        "\n",
        "plt.plot(x, y)\n",
        "plt.show()"
      ],
      "execution_count": 0,
      "outputs": [
        {
          "output_type": "display_data",
          "data": {
            "image/png": "[encoded data removed]",
            "text/plain": [
              "<Figure size 432x288 with 1 Axes>"
            ]
          },
          "metadata": {
            "tags": []
          }
        }
      ]
    },
    {
      "cell_type": "markdown",
      "metadata": {
        "id": "499Y2CfAcKdK",
        "colab_type": "text"
      },
      "source": [
        "### 4.5.7 소프트맥스 함수"
      ]
    },
    {
      "cell_type": "code",
      "metadata": {
        "id": "YyYAcvDmcKdK",
        "colab_type": "code",
        "outputId": "ea968335-4a05-4fce-861f-807c8991783d",
        "colab": {
          "base_uri": "https://localhost:8080/",
          "height": 34
        }
      },
      "source": [
        "import numpy as np\n",
        "\n",
        "def softmax_function(x):\n",
        "    return np.exp(x)/np.sum(np.exp(x)) # 소프트맥스함수\n",
        "\n",
        "y = softmax_function(np.array([1,2,3]))\n",
        "print(y)"
      ],
      "execution_count": 0,
      "outputs": [
        {
          "output_type": "stream",
          "text": [
            "[0.09003057 0.24472847 0.66524096]\n"
          ],
          "name": "stdout"
        }
      ]
    }
  ]
}
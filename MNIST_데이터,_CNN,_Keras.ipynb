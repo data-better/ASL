{
  "cells": [
    {
      "cell_type": "markdown",
      "metadata": {
        "id": "view-in-github",
        "colab_type": "text"
      },
      "source": [
        "<a href=\"https://colab.research.google.com/github/data-better/ASL/blob/master/MNIST_%EB%8D%B0%EC%9D%B4%ED%84%B0%2C_CNN%2C_Keras.ipynb\" target=\"_parent\"><img src=\"https://colab.research.google.com/assets/colab-badge.svg\" alt=\"Open In Colab\"/></a>"
      ]
    },
    {
      "cell_type": "markdown",
      "source": [
        "## MNIST 데이터, CNN, Keras\n",
        "\n",
        "* MNIST 숫자 이미지인식과 관련된 CNN 프로그램을 Keras로 작성하려고 해.  코드 작성해 줄 수 있나요?\n",
        "* 위 프로그램에서 MNIST 데이터를 불러와서 학습데이터와 시험데이터로 나누는 것을 포함해서 다시 코드를 작생해줘. 그리고 model을 model.add를 쓰지 않고 작성해줘.\n",
        "* 위 프로그램에서 시험 데이터 중 2개의 이미지를 보여주고, 실제로 어떻게 식별했는지 보여주도록 코드를 개선해줘."
      ],
      "metadata": {
        "id": "5q0Y5jVnun8v"
      }
    },
    {
      "cell_type": "code",
      "source": [
        "from keras.models import Sequential\n",
        "from keras.layers import Conv2D, MaxPooling2D, Dense, Flatten\n",
        "from keras.datasets import mnist\n",
        "from keras.utils import to_categorical\n",
        "import matplotlib.pyplot as plt\n",
        "\n",
        "# GPU 사용 설정\n",
        "import tensorflow as tf\n",
        "tf.config.list_physical_devices('GPU')\n",
        "\n",
        "# 데이터 불러오기\n",
        "(x_train, y_train), (x_test, y_test) = mnist.load_data()\n",
        "\n",
        "# 데이터 전처리\n",
        "x_train = x_train.astype('float32') / 255.0\n",
        "x_test = x_test.astype('float32') / 255.0\n",
        "y_train_cat = to_categorical(y_train, 10)\n",
        "y_test_cat = to_categorical(y_test, 10)\n",
        "\n",
        "# 모델 생성\n",
        "model = Sequential([\n",
        "    Conv2D(32, kernel_size=(3, 3), activation='relu', input_shape=(28, 28, 1)),\n",
        "    MaxPooling2D(pool_size=(2, 2)),\n",
        "    Conv2D(64, kernel_size=(3, 3), activation='relu'),\n",
        "    MaxPooling2D(pool_size=(2, 2)),\n",
        "    Flatten(),\n",
        "    Dense(128, activation='relu'),\n",
        "    Dense(10, activation='softmax')\n",
        "])\n",
        "\n",
        "# 모델 컴파일\n",
        "model.compile(optimizer='adam', loss='categorical_crossentropy', metrics=['accuracy'])\n",
        "\n",
        "# 모델 훈련\n",
        "model.fit(x_train, y_train_cat, epochs=10)\n",
        "\n",
        "# 모델 평가\n",
        "score = model.evaluate(x_test, y_test_cat)\n",
        "print('정확도:', score[1])\n",
        "\n",
        "# 시험 데이터 중 2개의 이미지 보여주기\n",
        "plt.figure(figsize=(12, 4))\n",
        "for i in range(2):\n",
        "    ax = plt.subplot(1, 2, i + 1)\n",
        "    plt.imshow(x_test[i])\n",
        "    plt.gray()\n",
        "    ax.get_xaxis().set_visible(False)\n",
        "    ax.get_yaxis().set_visible(False)\n",
        "\n",
        "# 모델이 숫자를 어떻게 식별했는지 보여주기\n",
        "predictions = model.predict(x_test)\n",
        "for i in range(2):\n",
        "    print('예측:', predictions[i].argmax())\n",
        "\n",
        "plt.show()\n"
      ],
      "outputs": [
        {
          "output_type": "stream",
          "name": "stdout",
          "text": [
            "Downloading data from https://storage.googleapis.com/tensorflow/tf-keras-datasets/mnist.npz\n",
            "11490434/11490434 [==============================] - 2s 0us/step\n",
            "Epoch 1/10\n",
            "1875/1875 [==============================] - 18s 4ms/step - loss: 0.1311 - accuracy: 0.9603\n",
            "Epoch 2/10\n",
            "1875/1875 [==============================] - 8s 4ms/step - loss: 0.0435 - accuracy: 0.9864\n",
            "Epoch 3/10\n",
            "1875/1875 [==============================] - 7s 4ms/step - loss: 0.0297 - accuracy: 0.9907\n",
            "Epoch 4/10\n",
            "1875/1875 [==============================] - 8s 4ms/step - loss: 0.0206 - accuracy: 0.9932\n",
            "Epoch 5/10\n",
            "1875/1875 [==============================] - 7s 4ms/step - loss: 0.0160 - accuracy: 0.9952\n",
            "Epoch 6/10\n",
            "1875/1875 [==============================] - 8s 4ms/step - loss: 0.0113 - accuracy: 0.9963\n",
            "Epoch 7/10\n",
            "1875/1875 [==============================] - 8s 4ms/step - loss: 0.0103 - accuracy: 0.9966\n",
            "Epoch 8/10\n",
            "1875/1875 [==============================] - 7s 4ms/step - loss: 0.0087 - accuracy: 0.9968\n",
            "Epoch 9/10\n",
            "1875/1875 [==============================] - 8s 4ms/step - loss: 0.0061 - accuracy: 0.9983\n",
            "Epoch 10/10\n",
            "1875/1875 [==============================] - 7s 4ms/step - loss: 0.0070 - accuracy: 0.9977\n",
            "313/313 [==============================] - 2s 4ms/step - loss: 0.0299 - accuracy: 0.9917\n",
            "정확도: 0.9916999936103821\n",
            "313/313 [==============================] - 1s 2ms/step\n",
            "예측: 7\n",
            "예측: 2\n"
          ]
        },
        {
          "output_type": "display_data",
          "data": {
            "text/plain": [
              "<Figure size 1200x400 with 2 Axes>"
            ],
            "image/png": "[encoded data removed]"
          },
          "metadata": {}
        }
      ],
      "execution_count": null,
      "metadata": {
        "colab": {
          "base_uri": "https://localhost:8080/",
          "height": 841
        },
        "id": "gOfOAYtbun8x",
        "outputId": "939ba392-4d62-43a8-af0e-d5aed5a0eb01"
      }
    },
    {
      "cell_type": "markdown",
      "source": [
        "이 코드는 MNIST 데이터를 불러와 학습 데이터와 테스트 데이터로 나누고, `model.add`를 사용하지 않고 CNN 모델을 생성하고 평가합니다. 모델은 98% 이상의 정확도로 숫자를 인식할 수 있습니다."
      ],
      "metadata": {
        "id": "7fbuATJAun8y"
      }
    },
    {
      "cell_type": "markdown",
      "source": [
        "<div class=\"md-recitation\">\n",
        "  Sources\n",
        "  <ol>\n",
        "  <li><a href=\"https://github.com/deeplearningturkiye/pratik-derin-ogrenme-uygulamalari\">https://github.com/deeplearningturkiye/pratik-derin-ogrenme-uygulamalari</a></li>\n",
        "  <li><a href=\"https://github.com/redorlik/BDA2017\">https://github.com/redorlik/BDA2017</a></li>\n",
        "  <li><a href=\"https://github.com/benceharomi-uob/Optical-Character-Recognition\">https://github.com/benceharomi-uob/Optical-Character-Recognition</a></li>\n",
        "  <li><a href=\"https://github.com/RitaRez/Sign-Language-Alphabet-Recognizer\">https://github.com/RitaRez/Sign-Language-Alphabet-Recognizer</a></li>\n",
        "  <li><a href=\"https://github.com/kepulet21/Deep-Learning-Homework-Duckietown\">https://github.com/kepulet21/Deep-Learning-Homework-Duckietown</a></li>\n",
        "  <li><a href=\"https://github.com/agapeuni/python_bk_dl\">https://github.com/agapeuni/python_bk_dl</a></li>\n",
        "  <li><a href=\"https://github.com/jsh15932/Python_TensorFlow\">https://github.com/jsh15932/Python_TensorFlow</a></li>\n",
        "  <li><a href=\"https://github.com/sopo9909/hoyoung\">https://github.com/sopo9909/hoyoung</a></li>\n",
        "  </ol>\n",
        "</div>"
      ],
      "metadata": {
        "id": "bDv1lZ1Zun8y"
      }
    }
  ],
  "metadata": {
    "colab": {
      "provenance": [],
      "gpuType": "T4",
      "include_colab_link": true
    },
    "kernelspec": {
      "display_name": "Python 3",
      "name": "python3"
    },
    "accelerator": "GPU",
    "gpuClass": "standard"
  },
  "nbformat": 4,
  "nbformat_minor": 0
}
{
  "nbformat": 4,
  "nbformat_minor": 0,
  "metadata": {
    "colab": {
      "name": "MNIST_FCNN.ipynb",
      "version": "0.3.2",
      "provenance": [],
      "collapsed_sections": [],
      "include_colab_link": true
    },
    "kernelspec": {
      "name": "python3",
      "display_name": "Python 3"
    },
    "accelerator": "TPU"
  },
  "cells": [
    {
      "cell_type": "markdown",
      "metadata": {
        "id": "view-in-github",
        "colab_type": "text"
      },
      "source": [
        "<a href=\"https://colab.research.google.com/github/data-better/ASL/blob/master/MNIST_FCNN.ipynb\" target=\"_parent\"><img src=\"https://colab.research.google.com/assets/colab-badge.svg\" alt=\"Open In Colab\"/></a>"
      ]
    },
    {
      "cell_type": "markdown",
      "metadata": {
        "id": "XcGtdFhKQGE6",
        "colab_type": "text"
      },
      "source": [
        "##  MNIST 숫자 손글씨 분류"
      ]
    },
    {
      "cell_type": "markdown",
      "metadata": {
        "id": "-Q4Ni1jetoh3",
        "colab_type": "text"
      },
      "source": [
        "### Keras 패키지 불러오기"
      ]
    },
    {
      "cell_type": "code",
      "metadata": {
        "id": "JPk4oi28Y3wB",
        "colab_type": "code",
        "outputId": "52416b05-e1d1-4071-9438-1921c1e3f605",
        "colab": {
          "base_uri": "https://localhost:8080/",
          "height": 34
        }
      },
      "source": [
        "from keras.datasets import mnist\n",
        "from keras import models\n",
        "from keras import layers\n",
        "from keras import initializers\n",
        "from keras.utils import np_utils"
      ],
      "execution_count": 1,
      "outputs": [
        {
          "output_type": "stream",
          "text": [
            "Using TensorFlow backend.\n"
          ],
          "name": "stderr"
        }
      ]
    },
    {
      "cell_type": "markdown",
      "metadata": {
        "id": "ueJXiW41QWKt",
        "colab_type": "text"
      },
      "source": [
        "### MNIST 데이터를 읽고 그래프로 살펴보기"
      ]
    },
    {
      "cell_type": "code",
      "metadata": {
        "id": "WHX-kpYMZmrL",
        "colab_type": "code",
        "outputId": "e8006336-4b0e-41e9-96c6-11e858bd48c9",
        "colab": {
          "base_uri": "https://localhost:8080/",
          "height": 304
        }
      },
      "source": [
        "(train_images, train_labels), (test_images, test_labels) = mnist.load_data()\n",
        "digit = train_images[5]\n",
        "\n",
        "import matplotlib.pyplot as plt\n",
        "plt.imshow(digit, cmap=plt.cm.binary)\n",
        "plt.show()"
      ],
      "execution_count": 2,
      "outputs": [
        {
          "output_type": "stream",
          "text": [
            "Downloading data from https://s3.amazonaws.com/img-datasets/mnist.npz\n",
            "11493376/11490434 [==============================] - 0s 0us/step\n"
          ],
          "name": "stdout"
        },
        {
          "output_type": "display_data",
          "data": {
            "image/png": "[encoded data removed]",
            "text/plain": [
              "<Figure size 432x288 with 1 Axes>"
            ]
          },
          "metadata": {
            "tags": []
          }
        }
      ]
    },
    {
      "cell_type": "code",
      "metadata": {
        "id": "DsGCyLxpadZR",
        "colab_type": "code",
        "outputId": "71727325-a2b8-4e9d-c515-c19556edf008",
        "colab": {
          "base_uri": "https://localhost:8080/",
          "height": 87
        }
      },
      "source": [
        "print(type(digit))\n",
        "\n",
        "print(\"digit :\", digit.shape)\n",
        "print(\"train images :\", train_images.shape)\n",
        "print(\"test  images :\", test_images.shape)\n"
      ],
      "execution_count": 3,
      "outputs": [
        {
          "output_type": "stream",
          "text": [
            "<class 'numpy.ndarray'>\n",
            "digit : (28, 28)\n",
            "train images : (60000, 28, 28)\n",
            "test  images : (10000, 28, 28)\n"
          ],
          "name": "stdout"
        }
      ]
    },
    {
      "cell_type": "markdown",
      "metadata": {
        "id": "5RwG3irMQvB8",
        "colab_type": "text"
      },
      "source": [
        "###  MNIST Data  표준화 및 One-hot coding"
      ]
    },
    {
      "cell_type": "code",
      "metadata": {
        "id": "SLZlIZ221oIJ",
        "colab_type": "code",
        "colab": {}
      },
      "source": [
        "# 표준화\n",
        "train_images = train_images.reshape((60000, 784))\n",
        "train_images = train_images.astype('float32')/255.0\n",
        "\n",
        "test_images = test_images.reshape((10000, 784))\n",
        "test_images = test_images.astype('float32')/255.0\n",
        "\n",
        "# One-hot coding\n",
        "train_labels = np_utils.to_categorical(train_labels)\n",
        "test_labels = np_utils.to_categorical(test_labels)"
      ],
      "execution_count": 0,
      "outputs": []
    },
    {
      "cell_type": "markdown",
      "metadata": {
        "id": "kgoAlfrTQ77z",
        "colab_type": "text"
      },
      "source": [
        "### 은닉층이 1개인 완전연결 신경망 모형 작성"
      ]
    },
    {
      "cell_type": "code",
      "metadata": {
        "id": "HDfIIkwjudRs",
        "colab_type": "code",
        "outputId": "b7a52433-e791-443a-e0cf-94512d4ecb99",
        "colab": {
          "base_uri": "https://localhost:8080/",
          "height": 160
        }
      },
      "source": [
        "network = models.Sequential()\n",
        "network.add(layers.Dense(512, activation='sigmoid', input_dim=28*28))\n",
        "network.add(layers.Dense(10, activation='softmax'))"
      ],
      "execution_count": 5,
      "outputs": [
        {
          "output_type": "stream",
          "text": [
            "WARNING: Logging before flag parsing goes to stderr.\n",
            "W0721 07:53:12.917158 140206686545792 deprecation_wrapper.py:119] From /usr/local/lib/python3.6/dist-packages/keras/backend/tensorflow_backend.py:74: The name tf.get_default_graph is deprecated. Please use tf.compat.v1.get_default_graph instead.\n",
            "\n",
            "W0721 07:53:12.955613 140206686545792 deprecation_wrapper.py:119] From /usr/local/lib/python3.6/dist-packages/keras/backend/tensorflow_backend.py:517: The name tf.placeholder is deprecated. Please use tf.compat.v1.placeholder instead.\n",
            "\n",
            "W0721 07:53:12.962296 140206686545792 deprecation_wrapper.py:119] From /usr/local/lib/python3.6/dist-packages/keras/backend/tensorflow_backend.py:4138: The name tf.random_uniform is deprecated. Please use tf.random.uniform instead.\n",
            "\n"
          ],
          "name": "stderr"
        }
      ]
    },
    {
      "cell_type": "code",
      "metadata": {
        "id": "KB5ZMC4HankF",
        "colab_type": "code",
        "outputId": "7a463aa4-6cc7-4dae-9942-a17d4ac65012",
        "colab": {
          "base_uri": "https://localhost:8080/",
          "height": 210
        }
      },
      "source": [
        "network.summary()"
      ],
      "execution_count": 0,
      "outputs": [
        {
          "output_type": "stream",
          "text": [
            "_________________________________________________________________\n",
            "Layer (type)                 Output Shape              Param #   \n",
            "=================================================================\n",
            "dense_1 (Dense)              (None, 512)               401920    \n",
            "_________________________________________________________________\n",
            "dense_2 (Dense)              (None, 10)                5130      \n",
            "=================================================================\n",
            "Total params: 407,050\n",
            "Trainable params: 407,050\n",
            "Non-trainable params: 0\n",
            "_________________________________________________________________\n"
          ],
          "name": "stdout"
        }
      ]
    },
    {
      "cell_type": "code",
      "metadata": {
        "id": "mZYfn9z-erra",
        "colab_type": "code",
        "outputId": "9fc33427-8709-4e5d-de33-df1badfd99c3",
        "colab": {
          "base_uri": "https://localhost:8080/",
          "height": 107
        }
      },
      "source": [
        "network.compile(loss='categorical_crossentropy', optimizer='adam', metrics=['accuracy'])"
      ],
      "execution_count": 6,
      "outputs": [
        {
          "output_type": "stream",
          "text": [
            "W0721 07:53:22.049732 140206686545792 deprecation_wrapper.py:119] From /usr/local/lib/python3.6/dist-packages/keras/optimizers.py:790: The name tf.train.Optimizer is deprecated. Please use tf.compat.v1.train.Optimizer instead.\n",
            "\n",
            "W0721 07:53:22.089781 140206686545792 deprecation_wrapper.py:119] From /usr/local/lib/python3.6/dist-packages/keras/backend/tensorflow_backend.py:3295: The name tf.log is deprecated. Please use tf.math.log instead.\n",
            "\n"
          ],
          "name": "stderr"
        }
      ]
    },
    {
      "cell_type": "code",
      "metadata": {
        "id": "dvS0D_vWh3Js",
        "colab_type": "code",
        "outputId": "b5419bc3-e68f-4f79-a922-c6718436a5f9",
        "colab": {
          "base_uri": "https://localhost:8080/",
          "height": 494
        }
      },
      "source": [
        "network.fit(train_images, train_labels, epochs=10, batch_size=128)"
      ],
      "execution_count": 7,
      "outputs": [
        {
          "output_type": "stream",
          "text": [
            "W0721 07:53:40.448481 140206686545792 deprecation.py:323] From /usr/local/lib/python3.6/dist-packages/tensorflow/python/ops/math_grad.py:1250: add_dispatch_support.<locals>.wrapper (from tensorflow.python.ops.array_ops) is deprecated and will be removed in a future version.\n",
            "Instructions for updating:\n",
            "Use tf.where in 2.0, which has the same broadcast rule as np.where\n",
            "W0721 07:53:40.499907 140206686545792 deprecation_wrapper.py:119] From /usr/local/lib/python3.6/dist-packages/keras/backend/tensorflow_backend.py:986: The name tf.assign_add is deprecated. Please use tf.compat.v1.assign_add instead.\n",
            "\n"
          ],
          "name": "stderr"
        },
        {
          "output_type": "stream",
          "text": [
            "Epoch 1/10\n",
            "60000/60000 [==============================] - 6s 94us/step - loss: 0.4724 - acc: 0.8728\n",
            "Epoch 2/10\n",
            "60000/60000 [==============================] - 5s 83us/step - loss: 0.2538 - acc: 0.9276\n",
            "Epoch 3/10\n",
            "60000/60000 [==============================] - 5s 82us/step - loss: 0.1995 - acc: 0.9423\n",
            "Epoch 4/10\n",
            "60000/60000 [==============================] - 5s 81us/step - loss: 0.1589 - acc: 0.9540\n",
            "Epoch 5/10\n",
            "60000/60000 [==============================] - 5s 81us/step - loss: 0.1296 - acc: 0.9622\n",
            "Epoch 6/10\n",
            "60000/60000 [==============================] - 5s 81us/step - loss: 0.1083 - acc: 0.9693\n",
            "Epoch 7/10\n",
            "60000/60000 [==============================] - 5s 80us/step - loss: 0.0901 - acc: 0.9744\n",
            "Epoch 8/10\n",
            "60000/60000 [==============================] - 5s 83us/step - loss: 0.0761 - acc: 0.9786\n",
            "Epoch 9/10\n",
            "60000/60000 [==============================] - 5s 80us/step - loss: 0.0650 - acc: 0.9813\n",
            "Epoch 10/10\n",
            "60000/60000 [==============================] - 5s 84us/step - loss: 0.0544 - acc: 0.9849\n"
          ],
          "name": "stdout"
        },
        {
          "output_type": "execute_result",
          "data": {
            "text/plain": [
              "<keras.callbacks.History at 0x7f842cf90e80>"
            ]
          },
          "metadata": {
            "tags": []
          },
          "execution_count": 7
        }
      ]
    },
    {
      "cell_type": "code",
      "metadata": {
        "id": "eF8kwjp-xiwf",
        "colab_type": "code",
        "outputId": "d0b122fb-5dca-410d-d865-fdc1c6407047",
        "colab": {
          "base_uri": "https://localhost:8080/",
          "height": 34
        }
      },
      "source": [
        "test_loss, test_acc = network.evaluate(test_images, test_labels)"
      ],
      "execution_count": 8,
      "outputs": [
        {
          "output_type": "stream",
          "text": [
            "10000/10000 [==============================] - 0s 47us/step\n"
          ],
          "name": "stdout"
        }
      ]
    },
    {
      "cell_type": "code",
      "metadata": {
        "id": "6n1uThuDx6Om",
        "colab_type": "code",
        "outputId": "f227399c-5f43-48e7-a624-b47406c604ca",
        "colab": {
          "base_uri": "https://localhost:8080/",
          "height": 34
        }
      },
      "source": [
        "print('test_acc:', test_acc)"
      ],
      "execution_count": 9,
      "outputs": [
        {
          "output_type": "stream",
          "text": [
            "test_acc: 0.976\n"
          ],
          "name": "stdout"
        }
      ]
    },
    {
      "cell_type": "code",
      "metadata": {
        "id": "T49Ah-whsMMZ",
        "colab_type": "code",
        "outputId": "a2831168-b6ac-440e-de89-9750395a4275",
        "colab": {
          "base_uri": "https://localhost:8080/",
          "height": 403
        }
      },
      "source": [
        "def model_net(nh, act, opt):\n",
        "  network =  models.Sequential()\n",
        "  network.add(layers.Dense(nh, activation=act, input_dim=28*28))\n",
        "  network.add(layers.Dense(10, activation='softmax'))\n",
        "  \n",
        "  network.compile(loss='categorical_crossentropy', optimizer=opt, metrics=['accuracy'])\n",
        "  network.fit(train_images, train_labels, epochs=10, batch_size=128)\n",
        "  test_loss1, test_acc1 = network.evaluate(test_images, test_labels)\n",
        "  print('test_acc:', test_acc1)\n",
        "  return network\n",
        "\n",
        "net1 = model_net(512, 'relu', 'adam')\n"
      ],
      "execution_count": 10,
      "outputs": [
        {
          "output_type": "stream",
          "text": [
            "Epoch 1/10\n",
            "60000/60000 [==============================] - 5s 87us/step - loss: 0.2692 - acc: 0.9239\n",
            "Epoch 2/10\n",
            "60000/60000 [==============================] - 5s 84us/step - loss: 0.1102 - acc: 0.9687\n",
            "Epoch 3/10\n",
            "60000/60000 [==============================] - 5s 82us/step - loss: 0.0740 - acc: 0.9784\n",
            "Epoch 4/10\n",
            "60000/60000 [==============================] - 5s 81us/step - loss: 0.0517 - acc: 0.9850\n",
            "Epoch 5/10\n",
            "60000/60000 [==============================] - 5s 83us/step - loss: 0.0377 - acc: 0.9892\n",
            "Epoch 6/10\n",
            "60000/60000 [==============================] - 5s 79us/step - loss: 0.0294 - acc: 0.9917\n",
            "Epoch 7/10\n",
            "60000/60000 [==============================] - 5s 79us/step - loss: 0.0223 - acc: 0.9939\n",
            "Epoch 8/10\n",
            "60000/60000 [==============================] - 5s 80us/step - loss: 0.0159 - acc: 0.9958\n",
            "Epoch 9/10\n",
            "60000/60000 [==============================] - 5s 79us/step - loss: 0.0128 - acc: 0.9967\n",
            "Epoch 10/10\n",
            "60000/60000 [==============================] - 5s 81us/step - loss: 0.0097 - acc: 0.9978\n",
            "10000/10000 [==============================] - 0s 48us/step\n",
            "test_acc: 0.9811\n"
          ],
          "name": "stdout"
        }
      ]
    },
    {
      "cell_type": "code",
      "metadata": {
        "id": "LJ0fVfBniR7b",
        "colab_type": "code",
        "colab": {
          "base_uri": "https://localhost:8080/",
          "height": 403
        },
        "outputId": "dfbbd551-34bf-4dda-e45f-f453f67c8c47"
      },
      "source": [
        "net1 = model_net(256, 'relu', 'adam')"
      ],
      "execution_count": 11,
      "outputs": [
        {
          "output_type": "stream",
          "text": [
            "Epoch 1/10\n",
            "60000/60000 [==============================] - 3s 53us/step - loss: 0.3088 - acc: 0.9136\n",
            "Epoch 2/10\n",
            "60000/60000 [==============================] - 3s 49us/step - loss: 0.1348 - acc: 0.9625\n",
            "Epoch 3/10\n",
            "60000/60000 [==============================] - 3s 51us/step - loss: 0.0935 - acc: 0.9730\n",
            "Epoch 4/10\n",
            "60000/60000 [==============================] - 3s 49us/step - loss: 0.0692 - acc: 0.9801\n",
            "Epoch 5/10\n",
            "60000/60000 [==============================] - 3s 49us/step - loss: 0.0527 - acc: 0.9850\n",
            "Epoch 6/10\n",
            "60000/60000 [==============================] - 3s 48us/step - loss: 0.0424 - acc: 0.9878\n",
            "Epoch 7/10\n",
            "60000/60000 [==============================] - 3s 48us/step - loss: 0.0342 - acc: 0.9904\n",
            "Epoch 8/10\n",
            "60000/60000 [==============================] - 3s 50us/step - loss: 0.0264 - acc: 0.9929\n",
            "Epoch 9/10\n",
            "60000/60000 [==============================] - 3s 50us/step - loss: 0.0214 - acc: 0.9944\n",
            "Epoch 10/10\n",
            "60000/60000 [==============================] - 3s 48us/step - loss: 0.0170 - acc: 0.9960\n",
            "10000/10000 [==============================] - 0s 38us/step\n",
            "test_acc: 0.9772\n"
          ],
          "name": "stdout"
        }
      ]
    }
  ]
}
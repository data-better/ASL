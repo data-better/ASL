{
  "nbformat": 4,
  "nbformat_minor": 0,
  "metadata": {
    "kernelspec": {
      "name": "python3",
      "display_name": "Python 3"
    },
    "language_info": {
      "codemirror_mode": {
        "name": "ipython",
        "version": 3
      },
      "file_extension": ".py",
      "mimetype": "text/x-python",
      "name": "python",
      "nbconvert_exporter": "python",
      "pygments_lexer": "ipython3",
      "version": "3.6.5"
    },
    "colab": {
      "name": "11강-date_formatter_att_mxnet.ipynb",
      "provenance": [],
      "collapsed_sections": [],
      "include_colab_link": true
    },
    "accelerator": "GPU"
  },
  "cells": [
    {
      "cell_type": "markdown",
      "metadata": {
        "id": "view-in-github",
        "colab_type": "text"
      },
      "source": [
        "<a href=\"https://colab.research.google.com/github/data-better/ASL/blob/master/11%EA%B0%95_date_formatter_att_mxnet.ipynb\" target=\"_parent\"><img src=\"https://colab.research.google.com/assets/colab-badge.svg\" alt=\"Open In Colab\"/></a>"
      ]
    },
    {
      "cell_type": "code",
      "metadata": {
        "id": "pJDZ233qMVGt",
        "outputId": "8b75ce52-67eb-4836-aa96-e292bca489e1",
        "colab": {
          "base_uri": "https://localhost:8080/",
          "height": 85
        }
      },
      "source": [
        "!nvcc --version"
      ],
      "execution_count": null,
      "outputs": [
        {
          "output_type": "stream",
          "text": [
            "nvcc: NVIDIA (R) Cuda compiler driver\n",
            "Copyright (c) 2005-2018 NVIDIA Corporation\n",
            "Built on Sat_Aug_25_21:08:01_CDT_2018\n",
            "Cuda compilation tools, release 10.0, V10.0.130\n"
          ],
          "name": "stdout"
        }
      ]
    },
    {
      "cell_type": "code",
      "metadata": {
        "id": "2BSFGW_oLKjT"
      },
      "source": [
        "!pip install mxnet-cu100"
      ],
      "execution_count": null,
      "outputs": []
    },
    {
      "cell_type": "code",
      "metadata": {
        "id": "yMhgQdjjLUeO"
      },
      "source": [
        "!pip install gluon"
      ],
      "execution_count": null,
      "outputs": []
    },
    {
      "cell_type": "code",
      "metadata": {
        "id": "JyDY2ugXKfMS"
      },
      "source": [
        "import numpy as np\n",
        "import pandas as pd\n",
        "from sklearn.model_selection import train_test_split\n",
        "from sklearn.utils import shuffle\n",
        "\n",
        "import mxnet as mx\n",
        "from mxnet import nd, autograd, gluon\n",
        "from mxnet.gluon import nn, rnn\n",
        "from mxnet.ndarray.linalg import gemm2\n",
        "import datetime\n",
        "from datetime import datetime"
      ],
      "execution_count": null,
      "outputs": []
    },
    {
      "cell_type": "code",
      "metadata": {
        "id": "q1ZjVdCoKfMW",
        "outputId": "6941ace2-6354-4c5a-f10a-2536fb0fc565",
        "colab": {
          "base_uri": "https://localhost:8080/",
          "height": 34
        }
      },
      "source": [
        "def padding(chars, maxlen):\n",
        "    if len(chars) < maxlen:\n",
        "        return chars + ' ' * (maxlen - len(chars))\n",
        "    else:\n",
        "        return chars[:maxlen]\n",
        "\n",
        "def gen_date():\n",
        "    rnd = int(np.random.uniform(low = 1000000000, high = 1350000000))\n",
        "    timestamp = datetime.fromtimestamp(rnd)\n",
        "    return str(timestamp.strftime('%Y-%B-%d %a')) # '%Y-%B-%d %H:%M:%S'\n",
        "\n",
        "def format_date(x):\n",
        "    return str(datetime.strptime(x, '%Y-%B-%d %a').strftime('%m/%d/%Y, %A')).lower() #'%H%M%S:%Y%m%d'\n",
        "\n",
        "N = 1000\n",
        "N_train = int(N * .9)\n",
        "N_validation = N - N_train\n",
        "\n",
        "in_seq_len = 32\n",
        "out_seq_len = 32\n",
        "\n",
        "added = set()\n",
        "questions = []\n",
        "answers = []\n",
        "answers_y = []\n",
        "\n",
        "while len(questions) < N:\n",
        "    if len(questions) % 1000 == 0:\n",
        "        print('i = {}'.format(len(questions)))\n",
        "    a = gen_date()\n",
        "    if a in added:\n",
        "        continue\n",
        "    question = '[{}]'.format(a)\n",
        "    answer = '[' + str(format_date(a)) + ']'\n",
        "    answer = padding(answer, out_seq_len)\n",
        "    answer_y = str(format_date(a)) + ']'\n",
        "    answer_y = padding(answer_y, out_seq_len)\n",
        "    \n",
        "    added.add(a)\n",
        "    questions.append(question)\n",
        "    answers.append(answer)\n",
        "    answers_y.append(answer_y)\n",
        "\n",
        "chars = list(set(''.join(questions[:20000])))\n",
        "chars.extend(['[', ']']) # Start and End of Expression\n",
        "chars.extend(list(set(''.join(answers[:20000]))))\n",
        "chars = np.sort(list(set(chars)))\n",
        "\n",
        "char_indices = dict((c, i) for i, c in enumerate(chars))\n",
        "indices_char = dict((i, c) for i, c in enumerate(chars))"
      ],
      "execution_count": null,
      "outputs": [
        {
          "output_type": "stream",
          "text": [
            "i = 0\n"
          ],
          "name": "stdout"
        }
      ]
    },
    {
      "cell_type": "code",
      "metadata": {
        "id": "EBubAXmUKfMZ",
        "outputId": "4a589395-6d81-4e41-b516-ea6f10932e67",
        "colab": {
          "base_uri": "https://localhost:8080/",
          "height": 71
        }
      },
      "source": [
        "print(questions[:10])\n",
        "print(answers[:10])"
      ],
      "execution_count": null,
      "outputs": [
        {
          "output_type": "stream",
          "text": [
            "['[2009-March-06 Fri]', '[2004-January-17 Sat]', '[2006-February-10 Fri]', '[2003-January-04 Sat]', '[2011-February-14 Mon]', '[2002-March-08 Fri]', '[2010-July-31 Sat]', '[2004-January-31 Sat]', '[2008-June-08 Sun]', '[2002-July-02 Tue]']\n",
            "['[03/06/2009, friday]            ', '[01/17/2004, saturday]          ', '[02/10/2006, friday]            ', '[01/04/2003, saturday]          ', '[02/14/2011, monday]            ', '[03/08/2002, friday]            ', '[07/31/2010, saturday]          ', '[01/31/2004, saturday]          ', '[06/08/2008, sunday]            ', '[07/02/2002, tuesday]           ']\n"
          ],
          "name": "stdout"
        }
      ]
    },
    {
      "cell_type": "code",
      "metadata": {
        "id": "LdZrhEr4KfMb"
      },
      "source": [
        "X = np.zeros((len(questions), in_seq_len, len(chars)), dtype=np.integer)\n",
        "Y = np.zeros((len(questions), out_seq_len, len(chars)), dtype=np.integer)\n",
        "Z = np.zeros((len(questions), out_seq_len, len(chars)), dtype=np.integer)\n",
        "\n",
        "for i in range(N):\n",
        "    for t, char in enumerate(questions[i]):\n",
        "        X[i, t, char_indices[char]] = 1\n",
        "    for t, char in enumerate(answers[i]):\n",
        "        Y[i, t, char_indices[char]] = 1\n",
        "    for t, char in enumerate(answers_y[i]):\n",
        "        Z[i, t, char_indices[char]] = 1\n",
        "    \n",
        "X_train, X_validation, Y_train, Y_validation, Z_train, Z_validation = \\\n",
        "    train_test_split(X, Y, Z, train_size=N_train)"
      ],
      "execution_count": null,
      "outputs": []
    },
    {
      "cell_type": "markdown",
      "metadata": {
        "id": "x3dEjqGcKfMd"
      },
      "source": [
        "### Testset"
      ]
    },
    {
      "cell_type": "code",
      "metadata": {
        "id": "yBtSCGHJKfMe"
      },
      "source": [
        "def gen_test(N):\n",
        "    q = []\n",
        "    y = []\n",
        "    \n",
        "    for i in range(N):\n",
        "        question = gen_date()\n",
        "        answer_y = format_date(question)\n",
        "        q.append(question)\n",
        "        y.append(answer_y)\n",
        "    return(q,y)"
      ],
      "execution_count": null,
      "outputs": []
    },
    {
      "cell_type": "code",
      "metadata": {
        "id": "M5-EdTHkKfMg",
        "outputId": "a017c022-b212-4aae-97ba-a57767d8257a",
        "colab": {
          "base_uri": "https://localhost:8080/",
          "height": 51
        }
      },
      "source": [
        "gen_test(2)"
      ],
      "execution_count": null,
      "outputs": [
        {
          "output_type": "execute_result",
          "data": {
            "text/plain": [
              "(['2004-September-30 Thu', '2010-August-27 Fri'],\n",
              " ['09/30/2004, thursday', '08/27/2010, friday'])"
            ]
          },
          "metadata": {
            "tags": []
          },
          "execution_count": 15
        }
      ]
    },
    {
      "cell_type": "code",
      "metadata": {
        "id": "c1lIftYhKfMi"
      },
      "source": [
        "class colors:\n",
        "    ok = '\\033[92m'\n",
        "    fail = '\\033[91m'\n",
        "    close = '\\033[0m'"
      ],
      "execution_count": null,
      "outputs": []
    },
    {
      "cell_type": "code",
      "metadata": {
        "id": "kIgV_eCXKfMk"
      },
      "source": [
        "class pattern_matcher(gluon.Block):\n",
        "    def __init__(self, n_hidden, in_seq_len, out_seq_len, vocab_size, ctx, **kwargs):\n",
        "        super(pattern_matcher, self).__init__(**kwargs)\n",
        "        self.in_seq_len = in_seq_len\n",
        "        self.out_seq_len = out_seq_len\n",
        "        self.n_hidden = n_hidden\n",
        "        self.vocab_size = vocab_size\n",
        "        \n",
        "        with self.name_scope():\n",
        "            self.encoder = rnn.LSTMCell(hidden_size = n_hidden)\n",
        "            self.decoder = rnn.LSTMCell(hidden_size = n_hidden)\n",
        "            self.attn_weight = nn.Dense(self.in_seq_len, in_units = self.in_seq_len)            \n",
        "            self.batchnorm = nn.BatchNorm(axis = 2)\n",
        "            self.dense = nn.Dense(self.vocab_size, flatten = False)\n",
        "            \n",
        "    def forward(self, inputs, outputs):\n",
        "        self.batch_size = inputs.shape[0]\n",
        "        enout, (next_h, next_c) = self.encoder.unroll(inputs = inputs \\\n",
        "                                                    , length = self.in_seq_len \\\n",
        "                                                    , merge_outputs = True)\n",
        "        # enout: (n_batch * time_step * n_hidden), next_h, next_c: (n_batch * n_hidden)\n",
        "        for i in range(self.out_seq_len):\n",
        "            # For each time step, caclculate context for attention\n",
        "            _n_h = next_h.expand_dims(axis = 2)\n",
        "            ####### Attention part: To get context vector at jth point of output sequence\n",
        "            score_i = gemm2(enout, next_h.expand_dims(axis = 2))  # n_batch * time_step * 1\n",
        "            alpha_i = nd.softmax(self.attn_weight(score_i)) # n_batch * time_step\n",
        "            alpha_expand = alpha_i.expand_dims(2) # (n_batch * 1 * time_step)\n",
        "            alpha_expand = nd.repeat(alpha_expand,repeats= self.n_hidden, axis=2) # n_batch * time_step * n_hidden\n",
        "            context = nd.multiply(alpha_expand, enout) # n_batch * time_step * n_hidden\n",
        "            context = nd.sum(context, axis = 1) # n_batch * n_hidden\n",
        "            _in = nd.concat(outputs[:, i, :], context)\n",
        "            deout, (next_h, next_c) = self.decoder(_in, [next_h, next_c],)\n",
        "            if i == 0:\n",
        "                deouts = deout\n",
        "            else:\n",
        "                deouts = nd.concat(deouts, deout, dim = 1)   \n",
        "        deouts = nd.reshape(deouts, (-1, self.out_seq_len, self.n_hidden))\n",
        "        deouts = self.batchnorm(deouts)\n",
        "        deouts_fc = self.dense(deouts)\n",
        "        return deouts_fc\n",
        "    \n",
        "    def predict(self, input_str, char_indices, indices_char, input_digits = 9, lchars = 14, ctx = mx.gpu()):\n",
        "        # No label when evaluating new example. So try to put the result of the previous time step\n",
        "        alpha = []\n",
        "        input_str = '[' + input_str + ']'\n",
        "        X = nd.zeros((1, input_digits, lchars), ctx = ctx)\n",
        "        for t, char in enumerate(input_str):\n",
        "            X[0, t, char_indices[char]] = 1\n",
        "        Y_init = nd.zeros((1, lchars), ctx = ctx)\n",
        "        Y_init[0, char_indices['[']] = 1\n",
        "        enout, (next_h, next_c) = self.encoder.unroll(inputs = X, length = self.in_seq_len, merge_outputs = True)\n",
        "        deout = Y_init\n",
        "        \n",
        "        for i in range(self.out_seq_len):\n",
        "            ####### Attention part: To get context vector at jth point of output sequence\n",
        "            score_i = gemm2(enout, next_h.expand_dims(axis = 2))\n",
        "            alpha_i = nd.softmax(self.attn_weight(score_i))\n",
        "            alpha_expand = alpha_i.expand_dims(2)\n",
        "            alpha_expand = nd.repeat(alpha_expand,repeats= self.n_hidden, axis=2) # n_batch * time step * n_hidden\n",
        "            context = nd.multiply(alpha_expand, enout)\n",
        "            context = nd.sum(context, axis = 1) # n_batch * n_hidden\n",
        "            _in = nd.concat(deout, context)\n",
        "            deout, (next_h, next_c) = self.decoder(_in, [next_h, next_c],)\n",
        "            deout = nd.expand_dims(deout, axis = 1)\n",
        "            deout = self.batchnorm(deout)\n",
        "            deout = deout[:, 0, :]\n",
        "            deout_sm = self.dense(deout)\n",
        "            deout = nd.one_hot(nd.argmax(nd.softmax(deout_sm, axis = 1), axis = 1), depth = self.vocab_size)\n",
        "            if i == 0:\n",
        "                ret_seq = indices_char[nd.argmax(deout_sm, axis = 1).asnumpy()[0].astype('int')]\n",
        "            else:\n",
        "                ret_seq += indices_char[nd.argmax(deout_sm, axis = 1).asnumpy()[0].astype('int')]\n",
        "            if ret_seq[-1] == ']':\n",
        "                break\n",
        "            alpha.append(alpha_i.asnumpy())\n",
        "        return ret_seq.strip(']').strip(), np.squeeze(np.array(alpha), axis = 1)"
      ],
      "execution_count": null,
      "outputs": []
    },
    {
      "cell_type": "code",
      "metadata": {
        "id": "ZKd5dOLYKfMm"
      },
      "source": [
        "tr_set = gluon.data.ArrayDataset(X_train, Y_train, Z_train)\n",
        "tr_data_iterator = gluon.data.DataLoader(tr_set, batch_size=256, shuffle=True)\n",
        "\n",
        "te_set =gluon.data.ArrayDataset(X_validation, Y_validation, Z_validation)\n",
        "te_data_iterator = gluon.data.DataLoader(te_set, batch_size=256, shuffle=True)"
      ],
      "execution_count": null,
      "outputs": []
    },
    {
      "cell_type": "code",
      "metadata": {
        "id": "097DKuKyKfMo"
      },
      "source": [
        "ctx = mx.gpu()\n",
        "model = pattern_matcher(300, in_seq_len, out_seq_len, len(chars), ctx)\n",
        "model.collect_params().initialize(mx.init.Xavier(), ctx = ctx)\n",
        "\n",
        "trainer = gluon.Trainer(model.collect_params(), 'rmsprop')\n",
        "loss = gluon.loss.SoftmaxCrossEntropyLoss(axis = 2, sparse_label = False)"
      ],
      "execution_count": null,
      "outputs": []
    },
    {
      "cell_type": "code",
      "metadata": {
        "id": "IaNOSJYNKfMq",
        "outputId": "468ef83e-e951-46d3-fc3c-89b8055d0f34",
        "colab": {
          "base_uri": "https://localhost:8080/",
          "height": 136
        }
      },
      "source": [
        "print(model)"
      ],
      "execution_count": null,
      "outputs": [
        {
          "output_type": "stream",
          "text": [
            "pattern_matcher(\n",
            "  (encoder): LSTMCell(None -> 1200)\n",
            "  (decoder): LSTMCell(None -> 1200)\n",
            "  (attn_weight): Dense(32 -> 32, linear)\n",
            "  (batchnorm): BatchNorm(axis=2, eps=1e-05, momentum=0.9, fix_gamma=False, use_global_stats=False, in_channels=None)\n",
            "  (dense): Dense(None -> 47, linear)\n",
            ")\n"
          ],
          "name": "stdout"
        }
      ]
    },
    {
      "cell_type": "code",
      "metadata": {
        "id": "E0g2roTqKfMs"
      },
      "source": [
        "def calculate_loss(model, data_iter, loss_obj, ctx = ctx):\n",
        "    test_loss = []\n",
        "    for i, (x_data, y_data, z_data) in enumerate(data_iter):\n",
        "        x_data = x_data.as_in_context(ctx).astype('float32')\n",
        "        y_data = y_data.as_in_context(ctx).astype('float32')\n",
        "        z_data = z_data.as_in_context(ctx).astype('float32')\n",
        "        with autograd.predict_mode():\n",
        "            z_output = model(x_data, y_data)\n",
        "            loss_te = loss_obj(z_output, z_data)\n",
        "        curr_loss = nd.mean(loss_te).asscalar()\n",
        "        test_loss.append(curr_loss)\n",
        "    return np.mean(test_loss)"
      ],
      "execution_count": null,
      "outputs": []
    },
    {
      "cell_type": "code",
      "metadata": {
        "id": "UIvcnGjVKfMv",
        "outputId": "2d0a4cba-5f6b-4ec7-d6eb-e05f88147dac",
        "colab": {
          "base_uri": "https://localhost:8080/",
          "height": 1000
        }
      },
      "source": [
        "epochs = 200\n",
        "\n",
        "tot_test_loss = []\n",
        "tot_train_loss = []\n",
        "for e in range(epochs):\n",
        "    train_loss = []\n",
        "    for i, (x_data, y_data, z_data) in enumerate(tr_data_iterator):\n",
        "        x_data = x_data.as_in_context(ctx).astype('float32')\n",
        "        y_data = y_data.as_in_context(ctx).astype('float32')\n",
        "        z_data = z_data.as_in_context(ctx).astype('float32')\n",
        "        \n",
        "        with autograd.record():\n",
        "            z_output = model(x_data, y_data)\n",
        "            loss_ = loss(z_output, z_data)\n",
        "        loss_.backward()\n",
        "        trainer.step(x_data.shape[0])\n",
        "        curr_loss = nd.mean(loss_).asscalar()\n",
        "        train_loss.append(curr_loss)\n",
        "        \n",
        "    if e % 10 == 0:\n",
        "        q, y = gen_test(10)\n",
        "        for i in range(10):\n",
        "            with autograd.predict_mode():\n",
        "                p, attn = model.predict(q[i], char_indices, indices_char, input_digits = in_seq_len, lchars = len(chars))\n",
        "                p = p.strip()\n",
        "                iscorr = 1 if p == y[i] else 0\n",
        "                if iscorr == 1:\n",
        "                    print(colors.ok + '☑' + colors.close, end=' ')\n",
        "                else:\n",
        "                    print(colors.fail + '☒' + colors.close, end=' ')\n",
        "                print(\"{} = {}({}) {}, attention {}\".format(q[i], p, y[i], str(iscorr), attn.shape))\n",
        "    #caculate test loss\n",
        "    test_loss = calculate_loss(model, te_data_iterator, loss_obj = loss, ctx=ctx) \n",
        "\n",
        "    print(\"Epoch %s. Train Loss: %s, Test Loss : %s\" % (e, np.mean(train_loss), test_loss))    \n",
        "    tot_test_loss.append(test_loss)\n",
        "    tot_train_loss.append(np.mean(train_loss))\n"
      ],
      "execution_count": null,
      "outputs": [
        {
          "output_type": "stream",
          "text": [
            "\u001b[92m☑\u001b[0m 2006-June-24 Sat = 06/24/2006, saturday(06/24/2006, saturday) 1, attention (20, 32)\n",
            "\u001b[92m☑\u001b[0m 2006-July-26 Wed = 07/26/2006, wednesday(07/26/2006, wednesday) 1, attention (21, 32)\n",
            "\u001b[92m☑\u001b[0m 2001-September-09 Sun = 09/09/2001, sunday(09/09/2001, sunday) 1, attention (18, 32)\n",
            "\u001b[92m☑\u001b[0m 2006-August-08 Tue = 08/08/2006, tuesday(08/08/2006, tuesday) 1, attention (19, 32)\n",
            "\u001b[92m☑\u001b[0m 2011-April-25 Mon = 04/25/2011, monday(04/25/2011, monday) 1, attention (18, 32)\n",
            "\u001b[92m☑\u001b[0m 2008-January-27 Sun = 01/27/2008, sunday(01/27/2008, sunday) 1, attention (18, 32)\n",
            "\u001b[92m☑\u001b[0m 2004-October-13 Wed = 10/13/2004, wednesday(10/13/2004, wednesday) 1, attention (21, 32)\n",
            "\u001b[92m☑\u001b[0m 2008-March-19 Wed = 03/19/2008, wednesday(03/19/2008, wednesday) 1, attention (21, 32)\n",
            "\u001b[92m☑\u001b[0m 2007-May-19 Sat = 05/19/2007, saturday(05/19/2007, saturday) 1, attention (20, 32)\n",
            "\u001b[92m☑\u001b[0m 2010-January-21 Thu = 01/21/2010, thursday(01/21/2010, thursday) 1, attention (20, 32)\n",
            "Epoch 0. Train Loss: 2.2899058e-05, Test Loss : 0.00014510119\n",
            "Epoch 1. Train Loss: 2.2445656e-05, Test Loss : 0.00013680905\n",
            "Epoch 2. Train Loss: 2.3017323e-05, Test Loss : 0.0001271791\n",
            "Epoch 3. Train Loss: 2.2289272e-05, Test Loss : 0.00013999915\n",
            "Epoch 4. Train Loss: 2.3053552e-05, Test Loss : 0.00014155892\n",
            "Epoch 5. Train Loss: 2.2006787e-05, Test Loss : 0.0001327304\n",
            "Epoch 6. Train Loss: 2.3066004e-05, Test Loss : 0.00012820674\n",
            "Epoch 7. Train Loss: 2.2769584e-05, Test Loss : 0.00014514479\n",
            "Epoch 8. Train Loss: 2.381579e-05, Test Loss : 0.00014201697\n",
            "Epoch 9. Train Loss: 2.2448206e-05, Test Loss : 0.0001353151\n",
            "\u001b[92m☑\u001b[0m 2008-September-22 Mon = 09/22/2008, monday(09/22/2008, monday) 1, attention (18, 32)\n",
            "\u001b[92m☑\u001b[0m 2002-July-03 Wed = 07/03/2002, wednesday(07/03/2002, wednesday) 1, attention (21, 32)\n",
            "\u001b[92m☑\u001b[0m 2012-April-07 Sat = 04/07/2012, saturday(04/07/2012, saturday) 1, attention (20, 32)\n",
            "\u001b[92m☑\u001b[0m 2011-February-27 Sun = 02/27/2011, sunday(02/27/2011, sunday) 1, attention (18, 32)\n",
            "\u001b[92m☑\u001b[0m 2012-March-05 Mon = 03/05/2012, monday(03/05/2012, monday) 1, attention (18, 32)\n",
            "\u001b[92m☑\u001b[0m 2005-September-11 Sun = 09/11/2005, sunday(09/11/2005, sunday) 1, attention (18, 32)\n",
            "\u001b[92m☑\u001b[0m 2008-February-05 Tue = 02/05/2008, tuesday(02/05/2008, tuesday) 1, attention (19, 32)\n",
            "\u001b[92m☑\u001b[0m 2008-November-17 Mon = 11/17/2008, monday(11/17/2008, monday) 1, attention (18, 32)\n",
            "\u001b[92m☑\u001b[0m 2003-July-26 Sat = 07/26/2003, saturday(07/26/2003, saturday) 1, attention (20, 32)\n",
            "\u001b[92m☑\u001b[0m 2010-May-16 Sun = 05/16/2010, sunday(05/16/2010, sunday) 1, attention (18, 32)\n",
            "Epoch 10. Train Loss: 2.2133943e-05, Test Loss : 0.00012360788\n",
            "Epoch 11. Train Loss: 2.2256438e-05, Test Loss : 0.00012664679\n",
            "Epoch 12. Train Loss: 2.1636624e-05, Test Loss : 0.00013985485\n",
            "Epoch 13. Train Loss: 2.1870286e-05, Test Loss : 0.00013750573\n",
            "Epoch 14. Train Loss: 2.2994102e-05, Test Loss : 0.00013612755\n",
            "Epoch 15. Train Loss: 2.1016054e-05, Test Loss : 0.00013573197\n",
            "Epoch 16. Train Loss: 2.1732987e-05, Test Loss : 0.000145325\n",
            "Epoch 17. Train Loss: 2.242482e-05, Test Loss : 0.00014991657\n",
            "Epoch 18. Train Loss: 2.331436e-05, Test Loss : 0.00018343264\n",
            "Epoch 19. Train Loss: 2.0736381e-05, Test Loss : 0.0001592325\n",
            "\u001b[92m☑\u001b[0m 2005-July-21 Thu = 07/21/2005, thursday(07/21/2005, thursday) 1, attention (20, 32)\n",
            "\u001b[92m☑\u001b[0m 2010-February-03 Wed = 02/03/2010, wednesday(02/03/2010, wednesday) 1, attention (21, 32)\n",
            "\u001b[92m☑\u001b[0m 2002-November-10 Sun = 11/10/2002, sunday(11/10/2002, sunday) 1, attention (18, 32)\n",
            "\u001b[92m☑\u001b[0m 2004-January-06 Tue = 01/06/2004, tuesday(01/06/2004, tuesday) 1, attention (19, 32)\n",
            "\u001b[92m☑\u001b[0m 2006-September-21 Thu = 09/21/2006, thursday(09/21/2006, thursday) 1, attention (20, 32)\n",
            "\u001b[92m☑\u001b[0m 2008-November-02 Sun = 11/02/2008, sunday(11/02/2008, sunday) 1, attention (18, 32)\n",
            "\u001b[92m☑\u001b[0m 2007-December-23 Sun = 12/23/2007, sunday(12/23/2007, sunday) 1, attention (18, 32)\n",
            "\u001b[92m☑\u001b[0m 2006-March-12 Sun = 03/12/2006, sunday(03/12/2006, sunday) 1, attention (18, 32)\n",
            "\u001b[92m☑\u001b[0m 2011-November-18 Fri = 11/18/2011, friday(11/18/2011, friday) 1, attention (18, 32)\n",
            "\u001b[92m☑\u001b[0m 2004-April-09 Fri = 04/09/2004, friday(04/09/2004, friday) 1, attention (18, 32)\n",
            "Epoch 20. Train Loss: 2.1439777e-05, Test Loss : 0.0001346214\n",
            "Epoch 21. Train Loss: 2.1350465e-05, Test Loss : 0.00012568627\n",
            "Epoch 22. Train Loss: 2.0290503e-05, Test Loss : 0.00012549816\n",
            "Epoch 23. Train Loss: 2.189679e-05, Test Loss : 0.00012539799\n",
            "Epoch 24. Train Loss: 2.1531669e-05, Test Loss : 0.00012532533\n",
            "Epoch 25. Train Loss: 2.1707612e-05, Test Loss : 0.00013299432\n",
            "Epoch 26. Train Loss: 2.4071951e-05, Test Loss : 0.0003685042\n",
            "Epoch 27. Train Loss: 2.1703907e-05, Test Loss : 0.00014172698\n",
            "Epoch 28. Train Loss: 2.0725613e-05, Test Loss : 0.00012896444\n",
            "Epoch 29. Train Loss: 2.029443e-05, Test Loss : 0.00014799289\n",
            "\u001b[92m☑\u001b[0m 2008-June-14 Sat = 06/14/2008, saturday(06/14/2008, saturday) 1, attention (20, 32)\n",
            "\u001b[92m☑\u001b[0m 2007-September-21 Fri = 09/21/2007, friday(09/21/2007, friday) 1, attention (18, 32)\n",
            "\u001b[92m☑\u001b[0m 2007-February-19 Mon = 02/19/2007, monday(02/19/2007, monday) 1, attention (18, 32)\n",
            "\u001b[92m☑\u001b[0m 2012-May-26 Sat = 05/26/2012, saturday(05/26/2012, saturday) 1, attention (20, 32)\n",
            "\u001b[92m☑\u001b[0m 2004-May-04 Tue = 05/04/2004, tuesday(05/04/2004, tuesday) 1, attention (19, 32)\n",
            "\u001b[92m☑\u001b[0m 2011-January-16 Sun = 01/16/2011, sunday(01/16/2011, sunday) 1, attention (18, 32)\n",
            "\u001b[92m☑\u001b[0m 2003-September-25 Thu = 09/25/2003, thursday(09/25/2003, thursday) 1, attention (20, 32)\n",
            "\u001b[92m☑\u001b[0m 2012-June-03 Sun = 06/03/2012, sunday(06/03/2012, sunday) 1, attention (18, 32)\n",
            "\u001b[92m☑\u001b[0m 2002-June-20 Thu = 06/20/2002, thursday(06/20/2002, thursday) 1, attention (20, 32)\n",
            "\u001b[92m☑\u001b[0m 2006-January-19 Thu = 01/19/2006, thursday(01/19/2006, thursday) 1, attention (20, 32)\n",
            "Epoch 30. Train Loss: 2.0175932e-05, Test Loss : 0.00012898965\n",
            "Epoch 31. Train Loss: 2.095519e-05, Test Loss : 0.00013269656\n",
            "Epoch 32. Train Loss: 2.1368676e-05, Test Loss : 0.00012713086\n",
            "Epoch 33. Train Loss: 2.1850425e-05, Test Loss : 0.0001533511\n",
            "Epoch 34. Train Loss: 2.104374e-05, Test Loss : 0.00015756619\n",
            "Epoch 35. Train Loss: 2.010298e-05, Test Loss : 0.00012331507\n",
            "Epoch 36. Train Loss: 1.9444118e-05, Test Loss : 0.00012976781\n",
            "Epoch 37. Train Loss: 2.0219944e-05, Test Loss : 0.00013857438\n",
            "Epoch 38. Train Loss: 2.3386921e-05, Test Loss : 0.0002928505\n",
            "Epoch 39. Train Loss: 2.0769294e-05, Test Loss : 0.0001253697\n",
            "\u001b[92m☑\u001b[0m 2005-August-30 Tue = 08/30/2005, tuesday(08/30/2005, tuesday) 1, attention (19, 32)\n",
            "\u001b[92m☑\u001b[0m 2012-September-22 Sat = 09/22/2012, saturday(09/22/2012, saturday) 1, attention (20, 32)\n",
            "\u001b[92m☑\u001b[0m 2010-January-22 Fri = 01/22/2010, friday(01/22/2010, friday) 1, attention (18, 32)\n",
            "\u001b[92m☑\u001b[0m 2006-January-26 Thu = 01/26/2006, thursday(01/26/2006, thursday) 1, attention (20, 32)\n",
            "\u001b[92m☑\u001b[0m 2008-June-08 Sun = 06/08/2008, sunday(06/08/2008, sunday) 1, attention (18, 32)\n",
            "\u001b[92m☑\u001b[0m 2003-April-28 Mon = 04/28/2003, monday(04/28/2003, monday) 1, attention (18, 32)\n",
            "\u001b[92m☑\u001b[0m 2010-July-25 Sun = 07/25/2010, sunday(07/25/2010, sunday) 1, attention (18, 32)\n",
            "\u001b[92m☑\u001b[0m 2002-February-27 Wed = 02/27/2002, wednesday(02/27/2002, wednesday) 1, attention (21, 32)\n",
            "\u001b[92m☑\u001b[0m 2011-July-10 Sun = 07/10/2011, sunday(07/10/2011, sunday) 1, attention (18, 32)\n",
            "\u001b[92m☑\u001b[0m 2003-June-05 Thu = 06/05/2003, thursday(06/05/2003, thursday) 1, attention (20, 32)\n",
            "Epoch 40. Train Loss: 2.080786e-05, Test Loss : 0.00015649851\n",
            "Epoch 41. Train Loss: 1.9356e-05, Test Loss : 0.00012226781\n",
            "Epoch 42. Train Loss: 2.2781029e-05, Test Loss : 0.0004807459\n",
            "Epoch 43. Train Loss: 2.023124e-05, Test Loss : 0.00014053416\n",
            "Epoch 44. Train Loss: 1.9428742e-05, Test Loss : 0.00012970447\n",
            "Epoch 45. Train Loss: 1.9229528e-05, Test Loss : 0.00012072323\n",
            "Epoch 46. Train Loss: 2.0143618e-05, Test Loss : 0.00011510109\n",
            "Epoch 47. Train Loss: 1.9934605e-05, Test Loss : 0.00012741867\n",
            "Epoch 48. Train Loss: 1.9222287e-05, Test Loss : 0.00011524658\n",
            "Epoch 49. Train Loss: 1.8945044e-05, Test Loss : 0.00011757918\n",
            "\u001b[92m☑\u001b[0m 2006-February-28 Tue = 02/28/2006, tuesday(02/28/2006, tuesday) 1, attention (19, 32)\n",
            "\u001b[92m☑\u001b[0m 2001-September-14 Fri = 09/14/2001, friday(09/14/2001, friday) 1, attention (18, 32)\n",
            "\u001b[92m☑\u001b[0m 2006-October-02 Mon = 10/02/2006, monday(10/02/2006, monday) 1, attention (18, 32)\n",
            "\u001b[92m☑\u001b[0m 2010-April-06 Tue = 04/06/2010, tuesday(04/06/2010, tuesday) 1, attention (19, 32)\n",
            "\u001b[92m☑\u001b[0m 2009-January-22 Thu = 01/22/2009, thursday(01/22/2009, thursday) 1, attention (20, 32)\n",
            "\u001b[92m☑\u001b[0m 2008-June-29 Sun = 06/29/2008, sunday(06/29/2008, sunday) 1, attention (18, 32)\n",
            "\u001b[92m☑\u001b[0m 2009-April-26 Sun = 04/26/2009, sunday(04/26/2009, sunday) 1, attention (18, 32)\n",
            "\u001b[92m☑\u001b[0m 2009-March-05 Thu = 03/05/2009, thursday(03/05/2009, thursday) 1, attention (20, 32)\n",
            "\u001b[92m☑\u001b[0m 2004-January-05 Mon = 01/05/2004, monday(01/05/2004, monday) 1, attention (18, 32)\n",
            "\u001b[92m☑\u001b[0m 2001-October-18 Thu = 10/18/2001, thursday(10/18/2001, thursday) 1, attention (20, 32)\n",
            "Epoch 50. Train Loss: 1.9520336e-05, Test Loss : 0.00012863794\n",
            "Epoch 51. Train Loss: 1.967358e-05, Test Loss : 0.00014116208\n",
            "Epoch 52. Train Loss: 1.8606923e-05, Test Loss : 0.00011977201\n",
            "Epoch 53. Train Loss: 2.157804e-05, Test Loss : 0.00012217788\n",
            "Epoch 54. Train Loss: 1.8966084e-05, Test Loss : 0.00013302322\n",
            "Epoch 55. Train Loss: 1.8635928e-05, Test Loss : 0.00011838545\n",
            "Epoch 56. Train Loss: 1.989624e-05, Test Loss : 0.0001222896\n",
            "Epoch 57. Train Loss: 1.9643656e-05, Test Loss : 0.0001279537\n",
            "Epoch 58. Train Loss: 1.9107725e-05, Test Loss : 0.00013117176\n",
            "Epoch 59. Train Loss: 1.8224782e-05, Test Loss : 0.00011827816\n",
            "\u001b[92m☑\u001b[0m 2002-December-13 Fri = 12/13/2002, friday(12/13/2002, friday) 1, attention (18, 32)\n",
            "\u001b[92m☑\u001b[0m 2006-February-23 Thu = 02/23/2006, thursday(02/23/2006, thursday) 1, attention (20, 32)\n",
            "\u001b[92m☑\u001b[0m 2003-April-24 Thu = 04/24/2003, thursday(04/24/2003, thursday) 1, attention (20, 32)\n",
            "\u001b[92m☑\u001b[0m 2008-May-13 Tue = 05/13/2008, tuesday(05/13/2008, tuesday) 1, attention (19, 32)\n",
            "\u001b[92m☑\u001b[0m 2004-August-13 Fri = 08/13/2004, friday(08/13/2004, friday) 1, attention (18, 32)\n",
            "\u001b[92m☑\u001b[0m 2008-March-02 Sun = 03/02/2008, sunday(03/02/2008, sunday) 1, attention (18, 32)\n",
            "\u001b[92m☑\u001b[0m 2011-July-27 Wed = 07/27/2011, wednesday(07/27/2011, wednesday) 1, attention (21, 32)\n",
            "\u001b[92m☑\u001b[0m 2006-December-07 Thu = 12/07/2006, thursday(12/07/2006, thursday) 1, attention (20, 32)\n",
            "\u001b[92m☑\u001b[0m 2004-May-27 Thu = 05/27/2004, thursday(05/27/2004, thursday) 1, attention (20, 32)\n",
            "\u001b[92m☑\u001b[0m 2006-January-14 Sat = 01/14/2006, saturday(01/14/2006, saturday) 1, attention (20, 32)\n",
            "Epoch 60. Train Loss: 1.8294419e-05, Test Loss : 0.00011369596\n",
            "Epoch 61. Train Loss: 1.7958611e-05, Test Loss : 0.000115214156\n",
            "Epoch 62. Train Loss: 1.7811157e-05, Test Loss : 0.00010715624\n",
            "Epoch 63. Train Loss: 1.7590486e-05, Test Loss : 0.00011519402\n",
            "Epoch 64. Train Loss: 1.8238263e-05, Test Loss : 0.000108735396\n",
            "Epoch 65. Train Loss: 1.8373994e-05, Test Loss : 0.000111045374\n",
            "Epoch 66. Train Loss: 1.7762808e-05, Test Loss : 0.00011593919\n",
            "Epoch 67. Train Loss: 1.8343819e-05, Test Loss : 0.00011854716\n",
            "Epoch 68. Train Loss: 2.162428e-05, Test Loss : 0.0001712149\n",
            "Epoch 69. Train Loss: 2.0475827e-05, Test Loss : 0.00010846232\n",
            "\u001b[92m☑\u001b[0m 2003-July-12 Sat = 07/12/2003, saturday(07/12/2003, saturday) 1, attention (20, 32)\n",
            "\u001b[92m☑\u001b[0m 2002-February-13 Wed = 02/13/2002, wednesday(02/13/2002, wednesday) 1, attention (21, 32)\n",
            "\u001b[92m☑\u001b[0m 2009-February-07 Sat = 02/07/2009, saturday(02/07/2009, saturday) 1, attention (20, 32)\n",
            "\u001b[92m☑\u001b[0m 2006-March-22 Wed = 03/22/2006, wednesday(03/22/2006, wednesday) 1, attention (21, 32)\n",
            "\u001b[92m☑\u001b[0m 2001-November-11 Sun = 11/11/2001, sunday(11/11/2001, sunday) 1, attention (18, 32)\n",
            "\u001b[92m☑\u001b[0m 2008-May-09 Fri = 05/09/2008, friday(05/09/2008, friday) 1, attention (18, 32)\n",
            "\u001b[92m☑\u001b[0m 2002-March-16 Sat = 03/16/2002, saturday(03/16/2002, saturday) 1, attention (20, 32)\n",
            "\u001b[92m☑\u001b[0m 2006-May-04 Thu = 05/04/2006, thursday(05/04/2006, thursday) 1, attention (20, 32)\n",
            "\u001b[92m☑\u001b[0m 2003-September-28 Sun = 09/28/2003, sunday(09/28/2003, sunday) 1, attention (18, 32)\n",
            "\u001b[92m☑\u001b[0m 2007-January-29 Mon = 01/29/2007, monday(01/29/2007, monday) 1, attention (18, 32)\n",
            "Epoch 70. Train Loss: 1.8434359e-05, Test Loss : 0.0001259089\n",
            "Epoch 71. Train Loss: 2.1148535e-05, Test Loss : 0.00012436177\n",
            "Epoch 72. Train Loss: 2.1248097e-05, Test Loss : 0.00013306826\n",
            "Epoch 73. Train Loss: 1.7666653e-05, Test Loss : 0.00010990654\n",
            "Epoch 74. Train Loss: 1.950614e-05, Test Loss : 0.00013206695\n",
            "Epoch 75. Train Loss: 1.8715018e-05, Test Loss : 0.00010946899\n",
            "Epoch 76. Train Loss: 1.8676554e-05, Test Loss : 0.00014245593\n",
            "Epoch 77. Train Loss: 1.7344471e-05, Test Loss : 0.000105520354\n",
            "Epoch 78. Train Loss: 1.681442e-05, Test Loss : 0.00011252236\n",
            "Epoch 79. Train Loss: 1.6608044e-05, Test Loss : 0.00010820408\n",
            "\u001b[92m☑\u001b[0m 2002-April-09 Tue = 04/09/2002, tuesday(04/09/2002, tuesday) 1, attention (19, 32)\n",
            "\u001b[92m☑\u001b[0m 2002-March-15 Fri = 03/15/2002, friday(03/15/2002, friday) 1, attention (18, 32)\n",
            "\u001b[92m☑\u001b[0m 2012-September-03 Mon = 09/03/2012, monday(09/03/2012, monday) 1, attention (18, 32)\n",
            "\u001b[92m☑\u001b[0m 2009-March-29 Sun = 03/29/2009, sunday(03/29/2009, sunday) 1, attention (18, 32)\n",
            "\u001b[92m☑\u001b[0m 2002-January-25 Fri = 01/25/2002, friday(01/25/2002, friday) 1, attention (18, 32)\n",
            "\u001b[92m☑\u001b[0m 2009-November-17 Tue = 11/17/2009, tuesday(11/17/2009, tuesday) 1, attention (19, 32)\n",
            "\u001b[92m☑\u001b[0m 2006-December-02 Sat = 12/02/2006, saturday(12/02/2006, saturday) 1, attention (20, 32)\n",
            "\u001b[92m☑\u001b[0m 2011-December-02 Fri = 12/02/2011, friday(12/02/2011, friday) 1, attention (18, 32)\n",
            "\u001b[92m☑\u001b[0m 2012-June-21 Thu = 06/21/2012, thursday(06/21/2012, thursday) 1, attention (20, 32)\n",
            "\u001b[92m☑\u001b[0m 2007-January-22 Mon = 01/22/2007, monday(01/22/2007, monday) 1, attention (18, 32)\n",
            "Epoch 80. Train Loss: 1.7163886e-05, Test Loss : 0.00011501218\n",
            "Epoch 81. Train Loss: 1.7752609e-05, Test Loss : 0.00010482773\n",
            "Epoch 82. Train Loss: 1.8037697e-05, Test Loss : 0.00016847151\n",
            "Epoch 83. Train Loss: 1.8896393e-05, Test Loss : 0.000116467985\n",
            "Epoch 84. Train Loss: 1.8616438e-05, Test Loss : 0.00011360167\n",
            "Epoch 85. Train Loss: 1.8018138e-05, Test Loss : 0.000118619355\n",
            "Epoch 86. Train Loss: 1.643999e-05, Test Loss : 0.0001135895\n",
            "Epoch 87. Train Loss: 1.7055663e-05, Test Loss : 0.00011938614\n",
            "Epoch 88. Train Loss: 1.6998982e-05, Test Loss : 0.00010909397\n",
            "Epoch 89. Train Loss: 1.6901642e-05, Test Loss : 0.00011115817\n",
            "\u001b[92m☑\u001b[0m 2003-January-20 Mon = 01/20/2003, monday(01/20/2003, monday) 1, attention (18, 32)\n",
            "\u001b[92m☑\u001b[0m 2010-September-17 Fri = 09/17/2010, friday(09/17/2010, friday) 1, attention (18, 32)\n",
            "\u001b[92m☑\u001b[0m 2004-November-12 Fri = 11/12/2004, friday(11/12/2004, friday) 1, attention (18, 32)\n",
            "\u001b[92m☑\u001b[0m 2011-August-28 Sun = 08/28/2011, sunday(08/28/2011, sunday) 1, attention (18, 32)\n",
            "\u001b[92m☑\u001b[0m 2008-February-18 Mon = 02/18/2008, monday(02/18/2008, monday) 1, attention (18, 32)\n",
            "\u001b[92m☑\u001b[0m 2003-June-04 Wed = 06/04/2003, wednesday(06/04/2003, wednesday) 1, attention (21, 32)\n",
            "\u001b[92m☑\u001b[0m 2003-July-09 Wed = 07/09/2003, wednesday(07/09/2003, wednesday) 1, attention (21, 32)\n",
            "\u001b[92m☑\u001b[0m 2005-July-26 Tue = 07/26/2005, tuesday(07/26/2005, tuesday) 1, attention (19, 32)\n",
            "\u001b[92m☑\u001b[0m 2008-July-31 Thu = 07/31/2008, thursday(07/31/2008, thursday) 1, attention (20, 32)\n",
            "\u001b[92m☑\u001b[0m 2005-June-08 Wed = 06/08/2005, wednesday(06/08/2005, wednesday) 1, attention (21, 32)\n",
            "Epoch 90. Train Loss: 1.6520531e-05, Test Loss : 0.00011832486\n",
            "Epoch 91. Train Loss: 1.7466326e-05, Test Loss : 0.0001196487\n",
            "Epoch 92. Train Loss: 1.6530492e-05, Test Loss : 0.000107646476\n",
            "Epoch 93. Train Loss: 1.7258186e-05, Test Loss : 0.00013421547\n",
            "Epoch 94. Train Loss: 1.6215501e-05, Test Loss : 0.00011619123\n",
            "Epoch 95. Train Loss: 1.6791884e-05, Test Loss : 0.000115986404\n",
            "Epoch 96. Train Loss: 1.6317217e-05, Test Loss : 0.000111235575\n",
            "Epoch 97. Train Loss: 1.9897874e-05, Test Loss : 0.0002194305\n",
            "Epoch 98. Train Loss: 1.6084192e-05, Test Loss : 0.000106199535\n",
            "Epoch 99. Train Loss: 1.677453e-05, Test Loss : 9.9316865e-05\n",
            "\u001b[92m☑\u001b[0m 2011-January-11 Tue = 01/11/2011, tuesday(01/11/2011, tuesday) 1, attention (19, 32)\n",
            "\u001b[92m☑\u001b[0m 2008-March-17 Mon = 03/17/2008, monday(03/17/2008, monday) 1, attention (18, 32)\n",
            "\u001b[92m☑\u001b[0m 2001-November-22 Thu = 11/22/2001, thursday(11/22/2001, thursday) 1, attention (20, 32)\n",
            "\u001b[92m☑\u001b[0m 2005-July-22 Fri = 07/22/2005, friday(07/22/2005, friday) 1, attention (18, 32)\n",
            "\u001b[92m☑\u001b[0m 2003-February-22 Sat = 02/22/2003, saturday(02/22/2003, saturday) 1, attention (20, 32)\n",
            "\u001b[92m☑\u001b[0m 2012-June-13 Wed = 06/13/2012, wednesday(06/13/2012, wednesday) 1, attention (21, 32)\n",
            "\u001b[92m☑\u001b[0m 2002-August-27 Tue = 08/27/2002, tuesday(08/27/2002, tuesday) 1, attention (19, 32)\n",
            "\u001b[92m☑\u001b[0m 2007-May-27 Sun = 05/27/2007, sunday(05/27/2007, sunday) 1, attention (18, 32)\n",
            "\u001b[92m☑\u001b[0m 2009-January-17 Sat = 01/17/2009, saturday(01/17/2009, saturday) 1, attention (20, 32)\n",
            "\u001b[92m☑\u001b[0m 2003-March-06 Thu = 03/06/2003, thursday(03/06/2003, thursday) 1, attention (20, 32)\n",
            "Epoch 100. Train Loss: 1.5449423e-05, Test Loss : 9.9577206e-05\n",
            "Epoch 101. Train Loss: 1.6202128e-05, Test Loss : 0.000108437715\n",
            "Epoch 102. Train Loss: 1.5628832e-05, Test Loss : 0.0001307888\n",
            "Epoch 103. Train Loss: 1.7090255e-05, Test Loss : 0.00010041479\n",
            "Epoch 104. Train Loss: 1.7672668e-05, Test Loss : 0.00010674123\n",
            "Epoch 105. Train Loss: 1.7756014e-05, Test Loss : 0.00011492797\n",
            "Epoch 106. Train Loss: 1.514181e-05, Test Loss : 0.00011590539\n",
            "Epoch 107. Train Loss: 1.8534269e-05, Test Loss : 0.00010122528\n",
            "Epoch 108. Train Loss: 1.6243443e-05, Test Loss : 0.00010920697\n",
            "Epoch 109. Train Loss: 1.6141003e-05, Test Loss : 0.0001017255\n",
            "\u001b[92m☑\u001b[0m 2010-January-01 Fri = 01/01/2010, friday(01/01/2010, friday) 1, attention (18, 32)\n",
            "\u001b[92m☑\u001b[0m 2011-February-05 Sat = 02/05/2011, saturday(02/05/2011, saturday) 1, attention (20, 32)\n",
            "\u001b[92m☑\u001b[0m 2004-March-14 Sun = 03/14/2004, sunday(03/14/2004, sunday) 1, attention (18, 32)\n",
            "\u001b[92m☑\u001b[0m 2012-May-07 Mon = 05/07/2012, monday(05/07/2012, monday) 1, attention (18, 32)\n",
            "\u001b[92m☑\u001b[0m 2007-March-25 Sun = 03/25/2007, sunday(03/25/2007, sunday) 1, attention (18, 32)\n",
            "\u001b[92m☑\u001b[0m 2003-December-31 Wed = 12/31/2003, wednesday(12/31/2003, wednesday) 1, attention (21, 32)\n",
            "\u001b[92m☑\u001b[0m 2003-July-30 Wed = 07/30/2003, wednesday(07/30/2003, wednesday) 1, attention (21, 32)\n",
            "\u001b[92m☑\u001b[0m 2012-February-05 Sun = 02/05/2012, sunday(02/05/2012, sunday) 1, attention (18, 32)\n",
            "\u001b[92m☑\u001b[0m 2007-August-26 Sun = 08/26/2007, sunday(08/26/2007, sunday) 1, attention (18, 32)\n",
            "\u001b[92m☑\u001b[0m 2005-June-22 Wed = 06/22/2005, wednesday(06/22/2005, wednesday) 1, attention (21, 32)\n",
            "Epoch 110. Train Loss: 1.5399622e-05, Test Loss : 0.000120751094\n",
            "Epoch 111. Train Loss: 1.7668459e-05, Test Loss : 0.00010644571\n",
            "Epoch 112. Train Loss: 1.5424732e-05, Test Loss : 0.00012047303\n",
            "Epoch 113. Train Loss: 1.528486e-05, Test Loss : 9.72701e-05\n",
            "Epoch 114. Train Loss: 1.5240107e-05, Test Loss : 0.00010032229\n",
            "Epoch 115. Train Loss: 1.7216807e-05, Test Loss : 0.00012554735\n",
            "Epoch 116. Train Loss: 1.5263464e-05, Test Loss : 0.00010056784\n",
            "Epoch 117. Train Loss: 1.6176316e-05, Test Loss : 0.000106602674\n",
            "Epoch 118. Train Loss: 1.54021e-05, Test Loss : 0.00012306373\n",
            "Epoch 119. Train Loss: 1.4471194e-05, Test Loss : 0.00011537827\n",
            "\u001b[92m☑\u001b[0m 2008-May-28 Wed = 05/28/2008, wednesday(05/28/2008, wednesday) 1, attention (21, 32)\n",
            "\u001b[92m☑\u001b[0m 2002-October-11 Fri = 10/11/2002, friday(10/11/2002, friday) 1, attention (18, 32)\n",
            "\u001b[92m☑\u001b[0m 2008-February-02 Sat = 02/02/2008, saturday(02/02/2008, saturday) 1, attention (20, 32)\n",
            "\u001b[92m☑\u001b[0m 2004-January-15 Thu = 01/15/2004, thursday(01/15/2004, thursday) 1, attention (20, 32)\n",
            "\u001b[92m☑\u001b[0m 2005-November-13 Sun = 11/13/2005, sunday(11/13/2005, sunday) 1, attention (18, 32)\n",
            "\u001b[92m☑\u001b[0m 2003-June-14 Sat = 06/14/2003, saturday(06/14/2003, saturday) 1, attention (20, 32)\n",
            "\u001b[92m☑\u001b[0m 2004-July-17 Sat = 07/17/2004, saturday(07/17/2004, saturday) 1, attention (20, 32)\n",
            "\u001b[92m☑\u001b[0m 2002-June-29 Sat = 06/29/2002, saturday(06/29/2002, saturday) 1, attention (20, 32)\n",
            "\u001b[92m☑\u001b[0m 2012-April-02 Mon = 04/02/2012, monday(04/02/2012, monday) 1, attention (18, 32)\n",
            "\u001b[92m☑\u001b[0m 2006-November-23 Thu = 11/23/2006, thursday(11/23/2006, thursday) 1, attention (20, 32)\n",
            "Epoch 120. Train Loss: 1.5932412e-05, Test Loss : 0.00010337703\n",
            "Epoch 121. Train Loss: 1.6096747e-05, Test Loss : 0.0001059533\n",
            "Epoch 122. Train Loss: 1.592726e-05, Test Loss : 9.276155e-05\n",
            "Epoch 123. Train Loss: 1.5060889e-05, Test Loss : 9.210894e-05\n",
            "Epoch 124. Train Loss: 1.5691056e-05, Test Loss : 0.00010452263\n",
            "Epoch 125. Train Loss: 1.4798379e-05, Test Loss : 0.00012338544\n",
            "Epoch 126. Train Loss: 1.4230892e-05, Test Loss : 0.00010817348\n",
            "Epoch 127. Train Loss: 1.4598219e-05, Test Loss : 0.00010177779\n",
            "Epoch 128. Train Loss: 1.4820653e-05, Test Loss : 0.00010071428\n",
            "Epoch 129. Train Loss: 1.5137493e-05, Test Loss : 9.892825e-05\n",
            "\u001b[92m☑\u001b[0m 2008-January-01 Tue = 01/01/2008, tuesday(01/01/2008, tuesday) 1, attention (19, 32)\n",
            "\u001b[92m☑\u001b[0m 2004-March-06 Sat = 03/06/2004, saturday(03/06/2004, saturday) 1, attention (20, 32)\n",
            "\u001b[92m☑\u001b[0m 2003-December-08 Mon = 12/08/2003, monday(12/08/2003, monday) 1, attention (18, 32)\n",
            "\u001b[92m☑\u001b[0m 2005-May-29 Sun = 05/29/2005, sunday(05/29/2005, sunday) 1, attention (18, 32)\n",
            "\u001b[92m☑\u001b[0m 2012-September-05 Wed = 09/05/2012, wednesday(09/05/2012, wednesday) 1, attention (21, 32)\n",
            "\u001b[92m☑\u001b[0m 2010-October-23 Sat = 10/23/2010, saturday(10/23/2010, saturday) 1, attention (20, 32)\n",
            "\u001b[92m☑\u001b[0m 2010-August-28 Sat = 08/28/2010, saturday(08/28/2010, saturday) 1, attention (20, 32)\n",
            "\u001b[92m☑\u001b[0m 2009-June-20 Sat = 06/20/2009, saturday(06/20/2009, saturday) 1, attention (20, 32)\n",
            "\u001b[92m☑\u001b[0m 2009-March-01 Sun = 03/01/2009, sunday(03/01/2009, sunday) 1, attention (18, 32)\n",
            "\u001b[92m☑\u001b[0m 2008-March-09 Sun = 03/09/2008, sunday(03/09/2008, sunday) 1, attention (18, 32)\n",
            "Epoch 130. Train Loss: 1.4974456e-05, Test Loss : 0.00010626238\n",
            "Epoch 131. Train Loss: 1.42742065e-05, Test Loss : 0.00010090458\n",
            "Epoch 132. Train Loss: 1.4536912e-05, Test Loss : 0.000104364386\n",
            "Epoch 133. Train Loss: 1.4576583e-05, Test Loss : 0.00011275194\n",
            "Epoch 134. Train Loss: 1.5275225e-05, Test Loss : 0.00010434716\n",
            "Epoch 135. Train Loss: 1.6333259e-05, Test Loss : 0.00010107993\n",
            "Epoch 136. Train Loss: 1.4537112e-05, Test Loss : 9.6579206e-05\n",
            "Epoch 137. Train Loss: 1.5046917e-05, Test Loss : 0.000103330174\n",
            "Epoch 138. Train Loss: 1.4186247e-05, Test Loss : 9.763243e-05\n",
            "Epoch 139. Train Loss: 1.4232187e-05, Test Loss : 9.42874e-05\n",
            "\u001b[92m☑\u001b[0m 2005-September-24 Sat = 09/24/2005, saturday(09/24/2005, saturday) 1, attention (20, 32)\n",
            "\u001b[92m☑\u001b[0m 2007-April-08 Sun = 04/08/2007, sunday(04/08/2007, sunday) 1, attention (18, 32)\n",
            "\u001b[92m☑\u001b[0m 2009-August-04 Tue = 08/04/2009, tuesday(08/04/2009, tuesday) 1, attention (19, 32)\n",
            "\u001b[92m☑\u001b[0m 2008-October-09 Thu = 10/09/2008, thursday(10/09/2008, thursday) 1, attention (20, 32)\n",
            "\u001b[92m☑\u001b[0m 2006-February-02 Thu = 02/02/2006, thursday(02/02/2006, thursday) 1, attention (20, 32)\n",
            "\u001b[92m☑\u001b[0m 2010-March-16 Tue = 03/16/2010, tuesday(03/16/2010, tuesday) 1, attention (19, 32)\n",
            "\u001b[92m☑\u001b[0m 2003-April-04 Fri = 04/04/2003, friday(04/04/2003, friday) 1, attention (18, 32)\n",
            "\u001b[92m☑\u001b[0m 2010-January-21 Thu = 01/21/2010, thursday(01/21/2010, thursday) 1, attention (20, 32)\n",
            "\u001b[92m☑\u001b[0m 2003-July-31 Thu = 07/31/2003, thursday(07/31/2003, thursday) 1, attention (20, 32)\n",
            "\u001b[92m☑\u001b[0m 2011-August-10 Wed = 08/10/2011, wednesday(08/10/2011, wednesday) 1, attention (21, 32)\n",
            "Epoch 140. Train Loss: 1.4475168e-05, Test Loss : 0.00010555142\n",
            "Epoch 141. Train Loss: 1.5113967e-05, Test Loss : 0.0001188798\n",
            "Epoch 142. Train Loss: 1.3833574e-05, Test Loss : 9.9362835e-05\n",
            "Epoch 143. Train Loss: 1.3825666e-05, Test Loss : 9.6520285e-05\n",
            "Epoch 144. Train Loss: 1.5603297e-05, Test Loss : 0.000117431126\n",
            "Epoch 145. Train Loss: 1.6309154e-05, Test Loss : 0.00014543948\n",
            "Epoch 146. Train Loss: 1.5081675e-05, Test Loss : 9.9370765e-05\n",
            "Epoch 147. Train Loss: 1.5965603e-05, Test Loss : 0.00015207437\n",
            "Epoch 148. Train Loss: 1.56874e-05, Test Loss : 0.00013565933\n",
            "Epoch 149. Train Loss: 1.5020167e-05, Test Loss : 0.000115506155\n",
            "\u001b[92m☑\u001b[0m 2003-January-08 Wed = 01/08/2003, wednesday(01/08/2003, wednesday) 1, attention (21, 32)\n",
            "\u001b[92m☑\u001b[0m 2011-September-29 Thu = 09/29/2011, thursday(09/29/2011, thursday) 1, attention (20, 32)\n",
            "\u001b[92m☑\u001b[0m 2009-December-02 Wed = 12/02/2009, wednesday(12/02/2009, wednesday) 1, attention (21, 32)\n",
            "\u001b[92m☑\u001b[0m 2008-January-06 Sun = 01/06/2008, sunday(01/06/2008, sunday) 1, attention (18, 32)\n",
            "\u001b[92m☑\u001b[0m 2010-December-31 Fri = 12/31/2010, friday(12/31/2010, friday) 1, attention (18, 32)\n",
            "\u001b[92m☑\u001b[0m 2002-February-25 Mon = 02/25/2002, monday(02/25/2002, monday) 1, attention (18, 32)\n",
            "\u001b[92m☑\u001b[0m 2007-July-29 Sun = 07/29/2007, sunday(07/29/2007, sunday) 1, attention (18, 32)\n",
            "\u001b[92m☑\u001b[0m 2009-January-31 Sat = 01/31/2009, saturday(01/31/2009, saturday) 1, attention (20, 32)\n",
            "\u001b[92m☑\u001b[0m 2012-July-13 Fri = 07/13/2012, friday(07/13/2012, friday) 1, attention (18, 32)\n",
            "\u001b[92m☑\u001b[0m 2004-April-22 Thu = 04/22/2004, thursday(04/22/2004, thursday) 1, attention (20, 32)\n",
            "Epoch 150. Train Loss: 1.4214493e-05, Test Loss : 9.701557e-05\n",
            "Epoch 151. Train Loss: 1.4784313e-05, Test Loss : 0.000105656545\n",
            "Epoch 152. Train Loss: 1.4025494e-05, Test Loss : 9.972097e-05\n",
            "Epoch 153. Train Loss: 2.0613987e-05, Test Loss : 0.0007880916\n",
            "Epoch 154. Train Loss: 1.6384054e-05, Test Loss : 8.859299e-05\n",
            "Epoch 155. Train Loss: 1.5656518e-05, Test Loss : 8.665012e-05\n",
            "Epoch 156. Train Loss: 1.3208706e-05, Test Loss : 8.5044696e-05\n",
            "Epoch 157. Train Loss: 1.4556693e-05, Test Loss : 8.386031e-05\n",
            "Epoch 158. Train Loss: 1.510774e-05, Test Loss : 0.00013801681\n",
            "Epoch 159. Train Loss: 1.473548e-05, Test Loss : 8.8264795e-05\n",
            "\u001b[92m☑\u001b[0m 2011-June-08 Wed = 06/08/2011, wednesday(06/08/2011, wednesday) 1, attention (21, 32)\n",
            "\u001b[92m☑\u001b[0m 2005-December-01 Thu = 12/01/2005, thursday(12/01/2005, thursday) 1, attention (20, 32)\n",
            "\u001b[92m☑\u001b[0m 2003-September-21 Sun = 09/21/2003, sunday(09/21/2003, sunday) 1, attention (18, 32)\n",
            "\u001b[92m☑\u001b[0m 2008-February-01 Fri = 02/01/2008, friday(02/01/2008, friday) 1, attention (18, 32)\n",
            "\u001b[92m☑\u001b[0m 2004-December-04 Sat = 12/04/2004, saturday(12/04/2004, saturday) 1, attention (20, 32)\n",
            "\u001b[92m☑\u001b[0m 2008-September-04 Thu = 09/04/2008, thursday(09/04/2008, thursday) 1, attention (20, 32)\n",
            "\u001b[92m☑\u001b[0m 2009-May-06 Wed = 05/06/2009, wednesday(05/06/2009, wednesday) 1, attention (21, 32)\n",
            "\u001b[92m☑\u001b[0m 2009-June-21 Sun = 06/21/2009, sunday(06/21/2009, sunday) 1, attention (18, 32)\n",
            "\u001b[92m☑\u001b[0m 2003-May-10 Sat = 05/10/2003, saturday(05/10/2003, saturday) 1, attention (20, 32)\n",
            "\u001b[92m☑\u001b[0m 2011-October-10 Mon = 10/10/2011, monday(10/10/2011, monday) 1, attention (18, 32)\n",
            "Epoch 160. Train Loss: 1.3463997e-05, Test Loss : 9.469219e-05\n",
            "Epoch 161. Train Loss: 1.3246782e-05, Test Loss : 8.983381e-05\n",
            "Epoch 162. Train Loss: 1.3246974e-05, Test Loss : 9.8532255e-05\n",
            "Epoch 163. Train Loss: 1.4407198e-05, Test Loss : 8.984644e-05\n",
            "Epoch 164. Train Loss: 1.3480267e-05, Test Loss : 9.0612724e-05\n",
            "Epoch 165. Train Loss: 1.3690504e-05, Test Loss : 8.586115e-05\n",
            "Epoch 166. Train Loss: 1.3290369e-05, Test Loss : 9.0246846e-05\n",
            "Epoch 167. Train Loss: 1.3289918e-05, Test Loss : 0.000104380175\n",
            "Epoch 168. Train Loss: 1.3496375e-05, Test Loss : 0.00011080145\n",
            "Epoch 169. Train Loss: 1.52285775e-05, Test Loss : 9.106218e-05\n",
            "\u001b[92m☑\u001b[0m 2010-March-20 Sat = 03/20/2010, saturday(03/20/2010, saturday) 1, attention (20, 32)\n",
            "\u001b[92m☑\u001b[0m 2009-February-25 Wed = 02/25/2009, wednesday(02/25/2009, wednesday) 1, attention (21, 32)\n",
            "\u001b[92m☑\u001b[0m 2009-February-03 Tue = 02/03/2009, tuesday(02/03/2009, tuesday) 1, attention (19, 32)\n",
            "\u001b[92m☑\u001b[0m 2006-October-14 Sat = 10/14/2006, saturday(10/14/2006, saturday) 1, attention (20, 32)\n",
            "\u001b[92m☑\u001b[0m 2003-April-28 Mon = 04/28/2003, monday(04/28/2003, monday) 1, attention (18, 32)\n",
            "\u001b[92m☑\u001b[0m 2007-February-14 Wed = 02/14/2007, wednesday(02/14/2007, wednesday) 1, attention (21, 32)\n",
            "\u001b[92m☑\u001b[0m 2004-March-31 Wed = 03/31/2004, wednesday(03/31/2004, wednesday) 1, attention (21, 32)\n",
            "\u001b[92m☑\u001b[0m 2010-February-21 Sun = 02/21/2010, sunday(02/21/2010, sunday) 1, attention (18, 32)\n",
            "\u001b[92m☑\u001b[0m 2008-April-03 Thu = 04/03/2008, thursday(04/03/2008, thursday) 1, attention (20, 32)\n",
            "\u001b[92m☑\u001b[0m 2007-December-11 Tue = 12/11/2007, tuesday(12/11/2007, tuesday) 1, attention (19, 32)\n",
            "Epoch 170. Train Loss: 1.3232737e-05, Test Loss : 9.8664306e-05\n",
            "Epoch 171. Train Loss: 1.3300357e-05, Test Loss : 0.00011013445\n",
            "Epoch 172. Train Loss: 1.284433e-05, Test Loss : 9.687693e-05\n",
            "Epoch 173. Train Loss: 1.285584e-05, Test Loss : 9.132506e-05\n",
            "Epoch 174. Train Loss: 1.4395045e-05, Test Loss : 9.0782334e-05\n",
            "Epoch 175. Train Loss: 1.3904111e-05, Test Loss : 0.00010371242\n",
            "Epoch 176. Train Loss: 1.3947057e-05, Test Loss : 9.923597e-05\n",
            "Epoch 177. Train Loss: 1.3678803e-05, Test Loss : 8.713781e-05\n",
            "Epoch 178. Train Loss: 1.6335269e-05, Test Loss : 0.00012903879\n",
            "Epoch 179. Train Loss: 1.2791554e-05, Test Loss : 0.000101499005\n",
            "\u001b[92m☑\u001b[0m 2012-June-08 Fri = 06/08/2012, friday(06/08/2012, friday) 1, attention (18, 32)\n",
            "\u001b[92m☑\u001b[0m 2004-July-06 Tue = 07/06/2004, tuesday(07/06/2004, tuesday) 1, attention (19, 32)\n",
            "\u001b[92m☑\u001b[0m 2012-January-31 Tue = 01/31/2012, tuesday(01/31/2012, tuesday) 1, attention (19, 32)\n",
            "\u001b[92m☑\u001b[0m 2009-February-13 Fri = 02/13/2009, friday(02/13/2009, friday) 1, attention (18, 32)\n",
            "\u001b[92m☑\u001b[0m 2010-January-03 Sun = 01/03/2010, sunday(01/03/2010, sunday) 1, attention (18, 32)\n",
            "\u001b[92m☑\u001b[0m 2002-July-25 Thu = 07/25/2002, thursday(07/25/2002, thursday) 1, attention (20, 32)\n",
            "\u001b[92m☑\u001b[0m 2005-October-31 Mon = 10/31/2005, monday(10/31/2005, monday) 1, attention (18, 32)\n",
            "\u001b[92m☑\u001b[0m 2005-September-23 Fri = 09/23/2005, friday(09/23/2005, friday) 1, attention (18, 32)\n",
            "\u001b[92m☑\u001b[0m 2010-February-25 Thu = 02/25/2010, thursday(02/25/2010, thursday) 1, attention (20, 32)\n",
            "\u001b[92m☑\u001b[0m 2005-March-26 Sat = 03/26/2005, saturday(03/26/2005, saturday) 1, attention (20, 32)\n",
            "Epoch 180. Train Loss: 1.3448722e-05, Test Loss : 9.571778e-05\n",
            "Epoch 181. Train Loss: 1.2504601e-05, Test Loss : 8.823863e-05\n",
            "Epoch 182. Train Loss: 1.3730889e-05, Test Loss : 0.00010023429\n",
            "Epoch 183. Train Loss: 1.3362152e-05, Test Loss : 0.00010255329\n",
            "Epoch 184. Train Loss: 1.2822032e-05, Test Loss : 8.997291e-05\n",
            "Epoch 185. Train Loss: 1.3262899e-05, Test Loss : 0.00012440186\n",
            "Epoch 186. Train Loss: 1.2881758e-05, Test Loss : 8.8495704e-05\n",
            "Epoch 187. Train Loss: 1.3427031e-05, Test Loss : 9.070224e-05\n",
            "Epoch 188. Train Loss: 1.2582717e-05, Test Loss : 8.95103e-05\n",
            "Epoch 189. Train Loss: 1.269365e-05, Test Loss : 9.282153e-05\n",
            "\u001b[92m☑\u001b[0m 2010-November-01 Mon = 11/01/2010, monday(11/01/2010, monday) 1, attention (18, 32)\n",
            "\u001b[92m☑\u001b[0m 2004-January-01 Thu = 01/01/2004, thursday(01/01/2004, thursday) 1, attention (20, 32)\n",
            "\u001b[92m☑\u001b[0m 2002-February-27 Wed = 02/27/2002, wednesday(02/27/2002, wednesday) 1, attention (21, 32)\n",
            "\u001b[92m☑\u001b[0m 2012-March-21 Wed = 03/21/2012, wednesday(03/21/2012, wednesday) 1, attention (21, 32)\n",
            "\u001b[92m☑\u001b[0m 2006-February-15 Wed = 02/15/2006, wednesday(02/15/2006, wednesday) 1, attention (21, 32)\n",
            "\u001b[92m☑\u001b[0m 2008-February-18 Mon = 02/18/2008, monday(02/18/2008, monday) 1, attention (18, 32)\n",
            "\u001b[92m☑\u001b[0m 2007-October-20 Sat = 10/20/2007, saturday(10/20/2007, saturday) 1, attention (20, 32)\n",
            "\u001b[92m☑\u001b[0m 2005-April-18 Mon = 04/18/2005, monday(04/18/2005, monday) 1, attention (18, 32)\n",
            "\u001b[92m☑\u001b[0m 2008-October-26 Sun = 10/26/2008, sunday(10/26/2008, sunday) 1, attention (18, 32)\n",
            "\u001b[92m☑\u001b[0m 2008-March-14 Fri = 03/14/2008, friday(03/14/2008, friday) 1, attention (18, 32)\n",
            "Epoch 190. Train Loss: 1.25680035e-05, Test Loss : 9.697443e-05\n",
            "Epoch 191. Train Loss: 1.3220404e-05, Test Loss : 9.843378e-05\n",
            "Epoch 192. Train Loss: 1.32321675e-05, Test Loss : 9.2429604e-05\n",
            "Epoch 193. Train Loss: 1.2780184e-05, Test Loss : 9.814531e-05\n",
            "Epoch 194. Train Loss: 1.2343471e-05, Test Loss : 9.249486e-05\n",
            "Epoch 195. Train Loss: 1.21159055e-05, Test Loss : 9.519849e-05\n",
            "Epoch 196. Train Loss: 1.25682745e-05, Test Loss : 9.648827e-05\n",
            "Epoch 197. Train Loss: 1.2423373e-05, Test Loss : 9.1965005e-05\n",
            "Epoch 198. Train Loss: 1.2919622e-05, Test Loss : 9.833226e-05\n",
            "Epoch 199. Train Loss: 1.2444178e-05, Test Loss : 9.5371535e-05\n"
          ],
          "name": "stdout"
        }
      ]
    },
    {
      "cell_type": "code",
      "metadata": {
        "id": "kP4C1OtlKfMx"
      },
      "source": [
        "def plot_attention(net, data, ctx = mx.cpu()):\n",
        "    from matplotlib import pyplot as plt\n",
        "    import seaborn as sns\n",
        "    from sklearn.preprocessing import normalize\n",
        "    \n",
        "    sns.set()\n",
        "    p =[]\n",
        "    attn = []\n",
        "    for i, d  in enumerate(data):\n",
        "        _p, _attn = net.predict(d, char_indices, indices_char, input_digits = in_seq_len, lchars = len(chars))\n",
        "        p.append(_p.strip())\n",
        "        attn.append(_attn)\n",
        "\n",
        "    fig, axes = plt.subplots(np.int(np.ceil(len(data) / 1)), 1, sharex = False, sharey = False)\n",
        "    plt.subplots_adjust(hspace=1)\n",
        "\n",
        "    if len(data) > 1:\n",
        "        fig.set_size_inches(5, 40)\n",
        "    else:\n",
        "        fig.set_size_inches(10, 10)\n",
        "    plt.subplots_adjust(hspace=1)\n",
        "    \n",
        "    for i, (d, p, a) in enumerate(zip(data, p, attn)):\n",
        "        _col = list(d)\n",
        "        _idx = list(p)\n",
        "        #a = a[:len(p), :len(d)]\n",
        "        #a = normalize(a, axis = 0, norm = 'max')\n",
        "        #print(a)\n",
        "        _val = a[:len(p), :len(d)]\n",
        "        \n",
        "        print('input: {}, length: {}'.format(d,len(d)))\n",
        "        print('prediction: {}, length:{}'.format(p,len(p)))\n",
        "        print('attention shape= {}'.format(a.shape))\n",
        "        print('check attn = {}'.format(np.sum(a, axis = 0)))\n",
        "        print('val shape= {}'.format(_val.shape))\n",
        "        if len(data) > 1:\n",
        "            sns.heatmap(pd.DataFrame(_val, index = _idx, columns = _col), ax = axes.flat[i], cmap = 'RdYlGn', linewidths = .3)\n",
        "        else:\n",
        "            sns.heatmap(pd.DataFrame(_val, index = _idx, columns = _col), cmap = 'RdYlGn', linewidths = .3)\n",
        "        #axes.flat[i].set_title('Label: {}, Pred: {}'.format(_label[i], np.int(_pred[i])))\n",
        "    pass"
      ],
      "execution_count": null,
      "outputs": []
    },
    {
      "cell_type": "code",
      "metadata": {
        "id": "6v0FeFLnWGuh",
        "outputId": "3b92c937-ccb6-49c7-dfed-7f92c9966408",
        "colab": {
          "base_uri": "https://localhost:8080/",
          "height": 34
        }
      },
      "source": [
        "len(np.max(attn_1, axis = 0))"
      ],
      "execution_count": null,
      "outputs": [
        {
          "output_type": "execute_result",
          "data": {
            "text/plain": [
              "32"
            ]
          },
          "metadata": {
            "tags": []
          },
          "execution_count": 111
        }
      ]
    },
    {
      "cell_type": "code",
      "metadata": {
        "id": "97i3xc4QKfMy",
        "outputId": "d53a6d1f-bc0f-40f0-c830-4a838f059a03",
        "colab": {
          "base_uri": "https://localhost:8080/",
          "height": 770
        }
      },
      "source": [
        "example = [gen_date() for _ in range(1)]\n",
        "plot_attention(model, example)"
      ],
      "execution_count": null,
      "outputs": [
        {
          "output_type": "stream",
          "text": [
            "input: 2005-September-01 Thu, length: 21\n",
            "prediction: 09/01/2005, thursday, length:20\n",
            "attention shape= (20, 32)\n",
            "check attn = [0.47629026 0.477359   0.53488195 1.1419923  0.5697325  0.4994407\n",
            " 0.5469731  0.48275506 0.48679817 0.5398182  1.0006263  1.0403169\n",
            " 0.8390795  0.7868108  0.92494714 0.8902244  0.99024117 0.751073\n",
            " 0.62510175 0.6042013  0.4845354  0.5081174  0.45892748 0.41344175\n",
            " 0.40533555 0.41758126 0.43533063 0.48209125 0.49592862 0.54426783\n",
            " 0.5633157  0.58246386]\n",
            "val shape= (20, 21)\n"
          ],
          "name": "stdout"
        },
        {
          "output_type": "display_data",
          "data": {
            "image/png": "[encoded data removed]",
            "text/plain": [
              "<Figure size 720x720 with 2 Axes>"
            ]
          },
          "metadata": {
            "tags": []
          }
        }
      ]
    },
    {
      "cell_type": "code",
      "metadata": {
        "id": "0u37NfLFOCNj"
      },
      "source": [
        ""
      ],
      "execution_count": null,
      "outputs": []
    }
  ]
}
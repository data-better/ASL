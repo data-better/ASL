{
  "nbformat": 4,
  "nbformat_minor": 0,
  "metadata": {
    "colab": {
      "name": "MNIST-convnets.ipynb",
      "version": "0.3.2",
      "provenance": [],
      "include_colab_link": true
    },
    "kernelspec": {
      "name": "python3",
      "display_name": "Python 3"
    },
    "accelerator": "GPU"
  },
  "cells": [
    {
      "cell_type": "markdown",
      "metadata": {
        "id": "view-in-github",
        "colab_type": "text"
      },
      "source": [
        "<a href=\"https://colab.research.google.com/github/data-better/ASL/blob/master/MNIST_convnets.ipynb\" target=\"_parent\"><img src=\"https://colab.research.google.com/assets/colab-badge.svg\" alt=\"Open In Colab\"/></a>"
      ]
    },
    {
      "cell_type": "markdown",
      "metadata": {
        "id": "aN_d3_o0yNze",
        "colab_type": "text"
      },
      "source": [
        "## MNIST 데이터에 대해 CNN 모형 작성\n",
        " * Deeplearing with Python,  케라스 창시자에게 배우는 딥러닝 참조"
      ]
    },
    {
      "cell_type": "markdown",
      "metadata": {
        "id": "pe3O306vyw67",
        "colab_type": "text"
      },
      "source": [
        "### MNIST 데이터 불러오기"
      ]
    },
    {
      "cell_type": "code",
      "metadata": {
        "colab_type": "code",
        "outputId": "caabeceb-1e3b-4e86-9dc8-76a8ff6021bf",
        "id": "ywxBSKLDynUg",
        "colab": {
          "base_uri": "https://localhost:8080/",
          "height": 70
        }
      },
      "source": [
        "from keras.datasets import mnist\n",
        "from keras.utils import to_categorical\n",
        "\n",
        "(train_images, train_labels), (test_images, test_labels) = mnist.load_data()\n",
        "\n",
        "train_images = train_images.reshape((60000, 28, 28, 1))\n",
        "train_images = train_images.astype('float32') / 255\n",
        "\n",
        "test_images = test_images.reshape((10000, 28, 28, 1))\n",
        "test_images = test_images.astype('float32') / 255\n",
        "\n",
        "train_labels = to_categorical(train_labels)\n",
        "test_labels = to_categorical(test_labels)"
      ],
      "execution_count": 0,
      "outputs": [
        {
          "output_type": "stream",
          "text": [
            "Using TensorFlow backend.\n"
          ],
          "name": "stderr"
        },
        {
          "output_type": "stream",
          "text": [
            "Downloading data from https://s3.amazonaws.com/img-datasets/mnist.npz\n",
            "11493376/11490434 [==============================] - 2s 0us/step\n"
          ],
          "name": "stdout"
        }
      ]
    },
    {
      "cell_type": "markdown",
      "metadata": {
        "id": "mAsCAGp8y3RI",
        "colab_type": "text"
      },
      "source": [
        "### CNN 모형 작성\n",
        "\n",
        "#### Convolution 부분"
      ]
    },
    {
      "cell_type": "code",
      "metadata": {
        "id": "ShzOEnPdQLLw",
        "colab_type": "code",
        "outputId": "8c9dcbf0-f8a6-4e06-e7bc-142a0479f7dc",
        "colab": {
          "base_uri": "https://localhost:8080/",
          "height": 195
        }
      },
      "source": [
        "from keras import layers\n",
        "from keras import models\n",
        "\n",
        "model = models.Sequential()\n",
        "model.add(layers.Conv2D(32, (3, 3), activation='relu', input_shape=(28, 28, 1)))\n",
        "model.add(layers.MaxPooling2D((2, 2)))\n",
        "model.add(layers.Conv2D(64, (3, 3), activation='relu'))\n",
        "model.add(layers.MaxPooling2D((2, 2)))\n",
        "model.add(layers.Conv2D(64, (3, 3), activation='relu'))"
      ],
      "execution_count": 0,
      "outputs": [
        {
          "output_type": "stream",
          "text": [
            "WARNING: Logging before flag parsing goes to stderr.\n",
            "W0721 05:14:11.654867 140302607521664 deprecation_wrapper.py:119] From /usr/local/lib/python3.6/dist-packages/keras/backend/tensorflow_backend.py:74: The name tf.get_default_graph is deprecated. Please use tf.compat.v1.get_default_graph instead.\n",
            "\n",
            "W0721 05:14:11.691972 140302607521664 deprecation_wrapper.py:119] From /usr/local/lib/python3.6/dist-packages/keras/backend/tensorflow_backend.py:517: The name tf.placeholder is deprecated. Please use tf.compat.v1.placeholder instead.\n",
            "\n",
            "W0721 05:14:11.700124 140302607521664 deprecation_wrapper.py:119] From /usr/local/lib/python3.6/dist-packages/keras/backend/tensorflow_backend.py:4138: The name tf.random_uniform is deprecated. Please use tf.random.uniform instead.\n",
            "\n",
            "W0721 05:14:11.725014 140302607521664 deprecation_wrapper.py:119] From /usr/local/lib/python3.6/dist-packages/keras/backend/tensorflow_backend.py:3976: The name tf.nn.max_pool is deprecated. Please use tf.nn.max_pool2d instead.\n",
            "\n"
          ],
          "name": "stderr"
        }
      ]
    },
    {
      "cell_type": "code",
      "metadata": {
        "id": "quiO5xlnQLL2",
        "colab_type": "code",
        "outputId": "500ed7a8-56e8-469f-ebdc-1279e3db6bc3",
        "colab": {
          "base_uri": "https://localhost:8080/",
          "height": 316
        }
      },
      "source": [
        "model.summary()"
      ],
      "execution_count": 0,
      "outputs": [
        {
          "output_type": "stream",
          "text": [
            "_________________________________________________________________\n",
            "Layer (type)                 Output Shape              Param #   \n",
            "=================================================================\n",
            "conv2d_1 (Conv2D)            (None, 26, 26, 32)        320       \n",
            "_________________________________________________________________\n",
            "max_pooling2d_1 (MaxPooling2 (None, 13, 13, 32)        0         \n",
            "_________________________________________________________________\n",
            "conv2d_2 (Conv2D)            (None, 11, 11, 64)        18496     \n",
            "_________________________________________________________________\n",
            "max_pooling2d_2 (MaxPooling2 (None, 5, 5, 64)          0         \n",
            "_________________________________________________________________\n",
            "conv2d_3 (Conv2D)            (None, 3, 3, 64)          36928     \n",
            "=================================================================\n",
            "Total params: 55,744\n",
            "Trainable params: 55,744\n",
            "Non-trainable params: 0\n",
            "_________________________________________________________________\n"
          ],
          "name": "stdout"
        }
      ]
    },
    {
      "cell_type": "markdown",
      "metadata": {
        "id": "GDmPnZynzBeK",
        "colab_type": "text"
      },
      "source": [
        "#### FC 부분"
      ]
    },
    {
      "cell_type": "code",
      "metadata": {
        "id": "D0NDSRbuQLL9",
        "colab_type": "code",
        "colab": {}
      },
      "source": [
        "model.add(layers.Flatten())\n",
        "model.add(layers.Dense(64, activation='relu'))\n",
        "model.add(layers.Dense(10, activation='softmax'))"
      ],
      "execution_count": 0,
      "outputs": []
    },
    {
      "cell_type": "code",
      "metadata": {
        "id": "8vwati1rQLMD",
        "colab_type": "code",
        "outputId": "dbd079cc-6c22-44fd-b900-dbcced96af19",
        "colab": {
          "base_uri": "https://localhost:8080/",
          "height": 421
        }
      },
      "source": [
        "model.summary()"
      ],
      "execution_count": 0,
      "outputs": [
        {
          "output_type": "stream",
          "text": [
            "_________________________________________________________________\n",
            "Layer (type)                 Output Shape              Param #   \n",
            "=================================================================\n",
            "conv2d_1 (Conv2D)            (None, 26, 26, 32)        320       \n",
            "_________________________________________________________________\n",
            "max_pooling2d_1 (MaxPooling2 (None, 13, 13, 32)        0         \n",
            "_________________________________________________________________\n",
            "conv2d_2 (Conv2D)            (None, 11, 11, 64)        18496     \n",
            "_________________________________________________________________\n",
            "max_pooling2d_2 (MaxPooling2 (None, 5, 5, 64)          0         \n",
            "_________________________________________________________________\n",
            "conv2d_3 (Conv2D)            (None, 3, 3, 64)          36928     \n",
            "_________________________________________________________________\n",
            "flatten_1 (Flatten)          (None, 576)               0         \n",
            "_________________________________________________________________\n",
            "dense_1 (Dense)              (None, 64)                36928     \n",
            "_________________________________________________________________\n",
            "dense_2 (Dense)              (None, 10)                650       \n",
            "=================================================================\n",
            "Total params: 93,322\n",
            "Trainable params: 93,322\n",
            "Non-trainable params: 0\n",
            "_________________________________________________________________\n"
          ],
          "name": "stdout"
        }
      ]
    },
    {
      "cell_type": "markdown",
      "metadata": {
        "id": "z7KIwRcczJIJ",
        "colab_type": "text"
      },
      "source": [
        "### CNN 모형의 훈련"
      ]
    },
    {
      "cell_type": "code",
      "metadata": {
        "id": "rKm2ST65QLMM",
        "colab_type": "code",
        "outputId": "a00224ce-5d98-466d-ec25-1e7b29c64529",
        "colab": {
          "base_uri": "https://localhost:8080/",
          "height": 720
        }
      },
      "source": [
        "model.compile(optimizer='adam', loss='categorical_crossentropy', metrics=['accuracy'])\n",
        "history=model.fit(train_images, train_labels, epochs=20, batch_size=128)"
      ],
      "execution_count": 0,
      "outputs": [
        {
          "output_type": "stream",
          "text": [
            "Epoch 1/20\n",
            "60000/60000 [==============================] - 3s 53us/step - loss: 0.0036 - acc: 0.9989\n",
            "Epoch 2/20\n",
            "60000/60000 [==============================] - 3s 43us/step - loss: 0.0029 - acc: 0.9992\n",
            "Epoch 3/20\n",
            "60000/60000 [==============================] - 3s 43us/step - loss: 0.0028 - acc: 0.9990\n",
            "Epoch 4/20\n",
            "60000/60000 [==============================] - 3s 43us/step - loss: 0.0019 - acc: 0.9995\n",
            "Epoch 5/20\n",
            "60000/60000 [==============================] - 3s 43us/step - loss: 0.0031 - acc: 0.9990\n",
            "Epoch 6/20\n",
            "60000/60000 [==============================] - 3s 44us/step - loss: 0.0020 - acc: 0.9993\n",
            "Epoch 7/20\n",
            "60000/60000 [==============================] - 3s 43us/step - loss: 8.9579e-04 - acc: 0.9998\n",
            "Epoch 8/20\n",
            "60000/60000 [==============================] - 3s 44us/step - loss: 0.0034 - acc: 0.9992\n",
            "Epoch 9/20\n",
            "60000/60000 [==============================] - 3s 43us/step - loss: 0.0045 - acc: 0.9985\n",
            "Epoch 10/20\n",
            "60000/60000 [==============================] - 3s 44us/step - loss: 0.0016 - acc: 0.9996\n",
            "Epoch 11/20\n",
            "60000/60000 [==============================] - 3s 44us/step - loss: 0.0019 - acc: 0.9995\n",
            "Epoch 12/20\n",
            "60000/60000 [==============================] - 3s 43us/step - loss: 0.0032 - acc: 0.9991\n",
            "Epoch 13/20\n",
            "60000/60000 [==============================] - 3s 43us/step - loss: 0.0021 - acc: 0.9993\n",
            "Epoch 14/20\n",
            "60000/60000 [==============================] - 3s 43us/step - loss: 0.0034 - acc: 0.9990\n",
            "Epoch 15/20\n",
            "60000/60000 [==============================] - 3s 43us/step - loss: 0.0020 - acc: 0.9995\n",
            "Epoch 16/20\n",
            "60000/60000 [==============================] - 3s 43us/step - loss: 0.0016 - acc: 0.9996\n",
            "Epoch 17/20\n",
            "60000/60000 [==============================] - 3s 43us/step - loss: 0.0021 - acc: 0.9995\n",
            "Epoch 18/20\n",
            "60000/60000 [==============================] - 3s 43us/step - loss: 0.0025 - acc: 0.9993\n",
            "Epoch 19/20\n",
            "60000/60000 [==============================] - 3s 43us/step - loss: 8.3380e-04 - acc: 0.9998\n",
            "Epoch 20/20\n",
            "60000/60000 [==============================] - 3s 43us/step - loss: 0.0032 - acc: 0.9991\n"
          ],
          "name": "stdout"
        }
      ]
    },
    {
      "cell_type": "code",
      "metadata": {
        "id": "w4HSRJav-n7k",
        "colab_type": "code",
        "outputId": "7eabeb89-4f56-4d33-d4e4-d883acc79cdd",
        "colab": {
          "base_uri": "https://localhost:8080/",
          "height": 295
        }
      },
      "source": [
        "import matplotlib.pyplot as plt\n",
        "\n",
        "history_dict = history.history\n",
        "loss = history_dict['loss']\n",
        "#val_loss = history_dict['val_loss']\n",
        "\n",
        "epochs = range(1, len(loss)+1)\n",
        "\n",
        "plt.plot(epochs, loss, 'b', label='training loss')\n",
        "#plt.plot(epochs, val_loss, 'bo', label='validation loss')\n",
        "plt.title(\"Training loss\")\n",
        "plt.xlabel('Epochs')\n",
        "plt.ylabel('Loss')\n",
        "#plt.legend()\n",
        "\n",
        "plt.show()"
      ],
      "execution_count": 0,
      "outputs": [
        {
          "output_type": "display_data",
          "data": {
            "image/png": "[encoded data removed]",
            "text/plain": [
              "<Figure size 432x288 with 1 Axes>"
            ]
          },
          "metadata": {
            "tags": []
          }
        }
      ]
    },
    {
      "cell_type": "markdown",
      "metadata": {
        "id": "HcgZUdCtzOGU",
        "colab_type": "text"
      },
      "source": [
        "### CNN 모형의 평가"
      ]
    },
    {
      "cell_type": "code",
      "metadata": {
        "id": "1hEcQZoMQLMS",
        "colab_type": "code",
        "outputId": "d0361ae3-436e-421c-b795-17bfaa462168",
        "colab": {
          "base_uri": "https://localhost:8080/",
          "height": 34
        }
      },
      "source": [
        "test_loss, test_acc = model.evaluate(test_images, test_labels)"
      ],
      "execution_count": 0,
      "outputs": [
        {
          "output_type": "stream",
          "text": [
            "10000/10000 [==============================] - 1s 79us/step\n"
          ],
          "name": "stdout"
        }
      ]
    },
    {
      "cell_type": "code",
      "metadata": {
        "id": "6zTiKIfqQLMW",
        "colab_type": "code",
        "outputId": "332a47ad-bf8e-452d-e351-34783961690c",
        "colab": {
          "base_uri": "https://localhost:8080/",
          "height": 34
        }
      },
      "source": [
        "test_acc"
      ],
      "execution_count": 0,
      "outputs": [
        {
          "output_type": "execute_result",
          "data": {
            "text/plain": [
              "0.9928"
            ]
          },
          "metadata": {
            "tags": []
          },
          "execution_count": 30
        }
      ]
    },
    {
      "cell_type": "code",
      "metadata": {
        "id": "tdhRUemW6BXC",
        "colab_type": "code",
        "colab": {}
      },
      "source": [
        "prediction=model.predict(test_images)"
      ],
      "execution_count": 0,
      "outputs": []
    },
    {
      "cell_type": "code",
      "metadata": {
        "id": "_mLufpDJ95OX",
        "colab_type": "code",
        "outputId": "5ade50cc-a312-43c0-faed-45bfa2074358",
        "colab": {
          "base_uri": "https://localhost:8080/",
          "height": 70
        }
      },
      "source": [
        "import numpy as np\n",
        "np.set_printoptions(precision=2)\n",
        "print(prediction[1,])\n",
        "print(test_labels[1])"
      ],
      "execution_count": 0,
      "outputs": [
        {
          "output_type": "stream",
          "text": [
            "[3.50e-08 1.26e-06 1.00e+00 1.09e-09 2.54e-08 3.77e-11 2.39e-09 6.08e-10\n",
            " 5.93e-09 5.94e-12]\n",
            "[0. 0. 1. 0. 0. 0. 0. 0. 0. 0.]\n"
          ],
          "name": "stdout"
        }
      ]
    }
  ]
}